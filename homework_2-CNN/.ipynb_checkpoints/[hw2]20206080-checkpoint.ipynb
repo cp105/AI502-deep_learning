{
 "cells": [
  {
   "cell_type": "markdown",
   "metadata": {
    "colab_type": "text",
    "id": "kMa8SlmSilGp"
   },
   "source": [
    "# AI502/KSE527, Homework 02"
   ]
  },
  {
   "cell_type": "code",
   "execution_count": 1,
   "metadata": {
    "colab": {
     "base_uri": "https://localhost:8080/",
     "height": 221
    },
    "colab_type": "code",
    "executionInfo": {
     "elapsed": 6891,
     "status": "ok",
     "timestamp": 1588309335413,
     "user": {
      "displayName": "Victor Cappa",
      "photoUrl": "",
      "userId": "13221236169392054040"
     },
     "user_tz": -540
    },
    "id": "88DPWU3pkPW-",
    "outputId": "c18584ef-32a8-4b6e-ae28-1f47cf4b35d2"
   },
   "outputs": [
    {
     "name": "stdout",
     "output_type": "stream",
     "text": [
      "Collecting ptflops\n",
      "  Downloading https://files.pythonhosted.org/packages/08/f2/4a52249d9eccc7b9caed5b0022604e8e1b3b738d9b9927db198963c4f578/ptflops-0.6.1.tar.gz\n",
      "Requirement already satisfied: torch in /usr/local/lib/python3.6/dist-packages (from ptflops) (1.5.0+cu101)\n",
      "Requirement already satisfied: future in /usr/local/lib/python3.6/dist-packages (from torch->ptflops) (0.16.0)\n",
      "Requirement already satisfied: numpy in /usr/local/lib/python3.6/dist-packages (from torch->ptflops) (1.18.3)\n",
      "Building wheels for collected packages: ptflops\n",
      "  Building wheel for ptflops (setup.py) ... \u001b[?25l\u001b[?25hdone\n",
      "  Created wheel for ptflops: filename=ptflops-0.6.1-cp36-none-any.whl size=8513 sha256=1f05e9bf8bdc8fceaaeaba4ada6a936b176065fad08f227a2ce89fc0c419e551\n",
      "  Stored in directory: /root/.cache/pip/wheels/72/9d/42/7047ed6168fbc3d1d3794f2119a7ba032e28df06a5c6db5ea2\n",
      "Successfully built ptflops\n",
      "Installing collected packages: ptflops\n",
      "Successfully installed ptflops-0.6.1\n"
     ]
    }
   ],
   "source": [
    "# install dependencies\n",
    "!pip install ptflops"
   ]
  },
  {
   "cell_type": "code",
   "execution_count": 0,
   "metadata": {
    "colab": {},
    "colab_type": "code",
    "id": "VVJIWA6bilGs"
   },
   "outputs": [],
   "source": [
    "import numpy as np\n",
    "\n",
    "import torch\n",
    "import torch.nn as nn\n",
    "import torch.nn.functional as F\n",
    "import torchvision.datasets as dsets\n",
    "import torchvision.transforms as transforms\n",
    "\n",
    "from torchsummary import summary\n",
    "from tqdm.auto import tqdm\n",
    "\n",
    "from ptflops import get_model_complexity_info \n",
    "## Reference of ptflops: https://github.com/sovrasov/flops-counter.pytorch\n",
    "\n",
    "import matplotlib.pyplot as plt"
   ]
  },
  {
   "cell_type": "code",
   "execution_count": 3,
   "metadata": {
    "colab": {
     "base_uri": "https://localhost:8080/",
     "height": 34
    },
    "colab_type": "code",
    "executionInfo": {
     "elapsed": 9701,
     "status": "ok",
     "timestamp": 1588309338394,
     "user": {
      "displayName": "Victor Cappa",
      "photoUrl": "",
      "userId": "13221236169392054040"
     },
     "user_tz": -540
    },
    "id": "pOzs0TChkcFy",
    "outputId": "ee0b5f45-6268-427d-8e0a-5eea3461ed6e"
   },
   "outputs": [
    {
     "data": {
      "text/plain": [
       "True"
      ]
     },
     "execution_count": 3,
     "metadata": {
      "tags": []
     },
     "output_type": "execute_result"
    }
   ],
   "source": [
    "torch.cuda.is_available()"
   ]
  },
  {
   "cell_type": "markdown",
   "metadata": {
    "colab_type": "text",
    "id": "tEXealDgilGy"
   },
   "source": [
    "# CIFAR100"
   ]
  },
  {
   "cell_type": "code",
   "execution_count": 0,
   "metadata": {
    "colab": {},
    "colab_type": "code",
    "id": "708cBXHHilGz"
   },
   "outputs": [],
   "source": [
    "# Global Variable For training\n",
    "# You just use the following hyper-parameters\n",
    "BATCH_SIZE = 128\n",
    "NUM_EPOCH = 100\n",
    "LEARNING_RATE = 0.01\n",
    "CRITERION = nn.CrossEntropyLoss()"
   ]
  },
  {
   "cell_type": "code",
   "execution_count": 5,
   "metadata": {
    "colab": {
     "base_uri": "https://localhost:8080/",
     "height": 83,
     "referenced_widgets": [
      "de87f51243644f97a2f8f58cc9415695",
      "07e02e6ab65b4c2f91c60297e75eb725",
      "0d5fe606fe9e44069910102a0062a70f",
      "6ae53e4c2dae4b60ae5a7dddebf2a5f5",
      "b3c7bfd38e2d471fa671cd4dad5a94e2",
      "79281564f2d84e7fa039148ed5dd3115",
      "1cb680022b384f51b4c665d429d94c75",
      "267cbf52e9ee498d833f3e86c7de99e7"
     ]
    },
    "colab_type": "code",
    "executionInfo": {
     "elapsed": 15856,
     "status": "ok",
     "timestamp": 1588309345451,
     "user": {
      "displayName": "Victor Cappa",
      "photoUrl": "",
      "userId": "13221236169392054040"
     },
     "user_tz": -540
    },
    "id": "ZTezbDoEilG3",
    "outputId": "444c3012-e387-4ff2-d3df-c6c9fe8c2dad"
   },
   "outputs": [
    {
     "name": "stdout",
     "output_type": "stream",
     "text": [
      "Downloading https://www.cs.toronto.edu/~kriz/cifar-100-python.tar.gz to ./data/cifar-100-python.tar.gz\n"
     ]
    },
    {
     "data": {
      "application/vnd.jupyter.widget-view+json": {
       "model_id": "de87f51243644f97a2f8f58cc9415695",
       "version_major": 2,
       "version_minor": 0
      },
      "text/plain": [
       "HBox(children=(IntProgress(value=1, bar_style='info', max=1), HTML(value='')))"
      ]
     },
     "metadata": {
      "tags": []
     },
     "output_type": "display_data"
    },
    {
     "name": "stdout",
     "output_type": "stream",
     "text": [
      "Extracting ./data/cifar-100-python.tar.gz to ./data\n"
     ]
    }
   ],
   "source": [
    "# CIFAR10 Dataset\n",
    "train_dataset = dsets.CIFAR100(root='./data', train=True, \n",
    "                              transform=transforms.Compose([\n",
    "                                            transforms.RandomCrop(32, padding=4),\n",
    "                                            transforms.RandomHorizontalFlip(),\n",
    "                                            transforms.ToTensor(),\n",
    "                                            transforms.Normalize((0.4914, 0.4822, 0.4465), (0.2023, 0.1994, 0.2010)),\n",
    "                                        ]), download=True)\n",
    "test_dataset = dsets.CIFAR100(root='./data', train=False,\n",
    "                             transform=transforms.Compose([\n",
    "                                            transforms.ToTensor(),\n",
    "                                            transforms.Normalize((0.4914, 0.4822, 0.4465), (0.2023, 0.1994, 0.2010)),\n",
    "                                        ]))\n",
    "train_loader = torch.utils.data.DataLoader(dataset=train_dataset, batch_size=BATCH_SIZE, shuffle=True)\n",
    "test_loader = torch.utils.data.DataLoader(dataset=test_dataset, batch_size=BATCH_SIZE, shuffle=False)"
   ]
  },
  {
   "cell_type": "markdown",
   "metadata": {
    "colab_type": "text",
    "id": "2oVdVM2FilG7"
   },
   "source": [
    "# Fit / Eval function"
   ]
  },
  {
   "cell_type": "code",
   "execution_count": 0,
   "metadata": {
    "colab": {},
    "colab_type": "code",
    "id": "TfPmpU9ailG7"
   },
   "outputs": [],
   "source": [
    "def fit(model, train_loader, test_loader, num_epochs, lr, criterion):\n",
    "    device = next(model.parameters()).device.index\n",
    "    optimizer = torch.optim.SGD(model.parameters(), lr=lr, momentum=0.9)\n",
    "    train_loss = []\n",
    "    test_acc = []\n",
    "    for epoch in range(num_epochs):\n",
    "\n",
    "        # train\n",
    "        losses = []\n",
    "        model.train()\n",
    "        for i, data in enumerate(train_loader):\n",
    "            optimizer.zero_grad()\n",
    "            image = data[0].type(torch.FloatTensor).cuda(device)\n",
    "            label = data[1].type(torch.LongTensor).cuda(device)\n",
    "\n",
    "            pred_label = model(image)\n",
    "            loss = criterion(pred_label, label)\n",
    "            losses.append(loss.item())\n",
    "            loss.backward()\n",
    "            optimizer.step()\n",
    "\n",
    "        # test\n",
    "        model.eval()\n",
    "        avg_loss = sum(losses)/len(losses)\n",
    "        train_loss.append(avg_loss)\n",
    "        acc = eval(model, test_loader)\n",
    "        test_acc.append(acc)\n",
    "        print(\"\\tEpoch number: {} - training loss: {} - test accuracy: {}\".format(epoch+1, avg_loss, acc))\n",
    "\n",
    "    return train_loss, test_acc"
   ]
  },
  {
   "cell_type": "code",
   "execution_count": 0,
   "metadata": {
    "colab": {},
    "colab_type": "code",
    "id": "fKGjbKnYilG-"
   },
   "outputs": [],
   "source": [
    "def eval(model, test_loader):\n",
    "    model.eval()\n",
    "    device = next(model.parameters()).device.index\n",
    "    pred_labels = []\n",
    "    real_labels = []\n",
    "\n",
    "    for i, data in enumerate(test_loader):\n",
    "        image = data[0].type(torch.FloatTensor).cuda(device)\n",
    "        label = data[1].type(torch.LongTensor).cuda(device)\n",
    "        real_labels += list(label.cpu().detach().numpy())\n",
    "        \n",
    "        pred_label = model(image)\n",
    "        pred_label = list(pred_label.cpu().detach().numpy())\n",
    "        pred_labels += pred_label\n",
    "        \n",
    "    real_labels = np.array(real_labels)\n",
    "    pred_labels = np.array(pred_labels)\n",
    "    pred_labels = pred_labels.argmax(axis=1)\n",
    "    acc = sum(real_labels==pred_labels)/len(real_labels)*100\n",
    "    \n",
    "    return acc"
   ]
  },
  {
   "cell_type": "markdown",
   "metadata": {
    "colab_type": "text",
    "id": "JVmUElW9ilHB"
   },
   "source": [
    "# Construct the 18 layers network\n",
    "\n",
    "All of PlainNet18, ResNet18, MobileNet18 have same network structure but they are consist of different convolution block (PlainBlock, ResidualBlock, MobileBlock). You have to utilize Net18() when you define the network."
   ]
  },
  {
   "cell_type": "code",
   "execution_count": 0,
   "metadata": {
    "colab": {},
    "colab_type": "code",
    "id": "6iWVz7nyilHE"
   },
   "outputs": [],
   "source": [
    "class Net18(nn.Module):\n",
    "    def __init__(self, block, num_blocks, num_classes):\n",
    "        super(Net18, self).__init__()\n",
    "        self.inp = 64\n",
    "        self.conv0 = nn.Conv2d(3, 64, kernel_size=3, stride=1, padding=1, bias=False)\n",
    "        self.bn0 = nn.BatchNorm2d(64)\n",
    "        self.relu = nn.ReLU(inplace=True)\n",
    "        self.layer1 = self._make_layer(block, 64, num_blocks[0], stride=1)\n",
    "        self.layer2 = self._make_layer(block, 128, num_blocks[1], stride=2)\n",
    "        self.layer3 = self._make_layer(block, 256, num_blocks[2], stride=2)\n",
    "        self.layer4 = self._make_layer(block, 512, num_blocks[3], stride=2)\n",
    "        self.linear = nn.Linear(512, num_classes)\n",
    "        \n",
    "    def _make_layer(self, block, oup, num_block, stride=1):\n",
    "        layers = []\n",
    "        strides = [stride] + [1]*(num_block-1)\n",
    "        for stride in strides:\n",
    "            layers.append(block(self.inp, oup, stride))\n",
    "            self.inp = oup\n",
    "        return nn.Sequential(*layers)\n",
    "    \n",
    "    def forward(self, x):\n",
    "        out = self.relu(self.bn0(self.conv0(x)))\n",
    "        out = self.layer1(out)\n",
    "        out = self.layer2(out)\n",
    "        out = self.layer3(out)\n",
    "        out = self.layer4(out)\n",
    "        out = F.avg_pool2d(out, 4)\n",
    "        out = out.view(out.size(0), -1)\n",
    "        out = self.linear(out)\n",
    "        return out"
   ]
  },
  {
   "cell_type": "markdown",
   "metadata": {
    "colab_type": "text",
    "id": "R4AI6Nj1ilHH"
   },
   "source": [
    "# Task1 : Implement 18-layer CNNs for CIFAR10"
   ]
  },
  {
   "cell_type": "code",
   "execution_count": 0,
   "metadata": {
    "colab": {},
    "colab_type": "code",
    "id": "HOK4A6tBilHH"
   },
   "outputs": [],
   "source": [
    "class PlainBlock(nn.Module):\n",
    "    def __init__(self, inp, oup, stride=1):\n",
    "        super(PlainBlock, self).__init__()\n",
    "        self.conv0 = nn.Conv2d(inp, oup, kernel_size=3, stride=stride, padding=1, bias=True)\n",
    "        self.bn0 = nn.BatchNorm2d(oup)\n",
    "        self.rl0 = nn.ReLU(inplace=True)\n",
    "        self.conv1 = nn.Conv2d(oup, oup, kernel_size=3, stride=1, padding=1, bias=True)\n",
    "        self.bn1 = nn.BatchNorm2d(oup)\n",
    "        self.rl1 = nn.ReLU(inplace=True)\n",
    "        \n",
    "    def forward(self, x):\n",
    "        out = self.rl0(self.bn0(self.conv0(x)))\n",
    "        out = self.rl1(self.bn1(self.conv1(out)))\n",
    "        return out"
   ]
  },
  {
   "cell_type": "markdown",
   "metadata": {
    "colab_type": "text",
    "id": "o5muozsgilHJ"
   },
   "source": [
    "# Task2 : Implement ResNet18 for CIFAR10"
   ]
  },
  {
   "cell_type": "code",
   "execution_count": 0,
   "metadata": {
    "colab": {},
    "colab_type": "code",
    "id": "jhpBcbt9ilHK"
   },
   "outputs": [],
   "source": [
    "class ResidualBlock(nn.Module):\n",
    "    def __init__(self, inp, oup, stride=1):\n",
    "        super(ResidualBlock, self).__init__()\n",
    "        self.conv0 = nn.Conv2d(inp, oup, kernel_size=3, stride=stride, padding=1, bias=True)\n",
    "        self.bn0 = nn.BatchNorm2d(oup)\n",
    "        self.rl0 = nn.ReLU()\n",
    "        self.conv1 = nn.Conv2d(oup, oup, kernel_size=3, stride=1, padding=1, bias=True)\n",
    "        self.bn1 = nn.BatchNorm2d(oup)\n",
    "        if inp!=oup:\n",
    "            self.projection = True\n",
    "            # projection shortcut connection, padding=0\n",
    "            self.projection_conv = nn.Conv2d(inp, oup, kernel_size=1, stride=stride, bias=True)\n",
    "        else:\n",
    "            self.projection = False\n",
    "        self.rl1 = nn.ReLU()\n",
    "        \n",
    "    def forward(self, x):\n",
    "        out = self.rl0(self.bn0(self.conv0(x)))\n",
    "        out = self.bn1(self.conv1(out))\n",
    "        if self.projection==True:\n",
    "            out += self.projection_conv(x)\n",
    "        else:\n",
    "            out += x\n",
    "        out = self.rl1(out)\n",
    "        return out"
   ]
  },
  {
   "cell_type": "markdown",
   "metadata": {
    "colab_type": "text",
    "id": "RlFdAXUyilHM"
   },
   "source": [
    "# Task3 : Implement MobileNet for CIFAR10"
   ]
  },
  {
   "cell_type": "code",
   "execution_count": 0,
   "metadata": {
    "colab": {},
    "colab_type": "code",
    "id": "pX6AkscGilHM"
   },
   "outputs": [],
   "source": [
    "class MobileBlock(nn.Module):\n",
    "    def __init__(self, inp, oup, stride=1):\n",
    "        super(MobileBlock, self).__init__()\n",
    "\n",
    "        def conv_dw(inp, oup, stride):\n",
    "            return nn.Sequential(\n",
    "                # 3x3 depthwise convolution\n",
    "                nn.Conv2d(inp, inp, kernel_size=3, stride=stride, padding=1, groups=inp, bias=True),\n",
    "                nn.BatchNorm2d(inp),\n",
    "                nn.ReLU(),\n",
    "                # 1x1 pointwise convolution\n",
    "                nn.Conv2d(inp, oup, kernel_size=1, stride=1, bias=True),\n",
    "                nn.BatchNorm2d(oup),\n",
    "                nn.ReLU()\n",
    "            )\n",
    "        # first layer\n",
    "        self.layer0 = conv_dw(inp, oup, stride)\n",
    "        # second layer\n",
    "        self.layer1 = conv_dw(oup, oup, 1)\n",
    "\n",
    "    def forward(self, x):\n",
    "        out = self.layer0(x)\n",
    "        out = self.layer1(out)\n",
    "        return out"
   ]
  },
  {
   "cell_type": "markdown",
   "metadata": {
    "colab_type": "text",
    "id": "RSMoklWW9eXg"
   },
   "source": [
    "## Problem 1 : Plot the training loss and test accuracy of 18-layer CNNs for each epoch"
   ]
  },
  {
   "cell_type": "code",
   "execution_count": 12,
   "metadata": {
    "colab": {
     "base_uri": "https://localhost:8080/",
     "height": 1000
    },
    "colab_type": "code",
    "executionInfo": {
     "elapsed": 1815072,
     "status": "ok",
     "timestamp": 1588314967835,
     "user": {
      "displayName": "Victor Cappa",
      "photoUrl": "",
      "userId": "13221236169392054040"
     },
     "user_tz": -540
    },
    "id": "6nTFXcVKlyjS",
    "outputId": "c3eaf82f-648b-48ca-8d1b-f06b0f1ffca0"
   },
   "outputs": [
    {
     "name": "stdout",
     "output_type": "stream",
     "text": [
      "Warning: module PlainBlock is treated as a zero-op.\n",
      "Warning: module Net18 is treated as a zero-op.\n",
      "Net18(\n",
      "  11.05 M, 100.000% Params, 0.551 GMac, 100.000% MACs, \n",
      "  (conv0): Conv2d(0.002 M, 0.016% Params, 0.002 GMac, 0.321% MACs, 3, 64, kernel_size=(3, 3), stride=(1, 1), padding=(1, 1), bias=False)\n",
      "  (bn0): BatchNorm2d(0.0 M, 0.001% Params, 0.0 GMac, 0.024% MACs, 64, eps=1e-05, momentum=0.1, affine=True, track_running_stats=True)\n",
      "  (relu): ReLU(0.0 M, 0.000% Params, 0.0 GMac, 0.012% MACs, inplace=True)\n",
      "  (layer1): Sequential(\n",
      "    0.148 M, 1.341% Params, 0.152 GMac, 27.577% MACs, \n",
      "    (0): PlainBlock(\n",
      "      0.074 M, 0.671% Params, 0.076 GMac, 13.789% MACs, \n",
      "      (conv0): Conv2d(0.037 M, 0.334% Params, 0.038 GMac, 6.859% MACs, 64, 64, kernel_size=(3, 3), stride=(1, 1), padding=(1, 1))\n",
      "      (bn0): BatchNorm2d(0.0 M, 0.001% Params, 0.0 GMac, 0.024% MACs, 64, eps=1e-05, momentum=0.1, affine=True, track_running_stats=True)\n",
      "      (rl0): ReLU(0.0 M, 0.000% Params, 0.0 GMac, 0.012% MACs, inplace=True)\n",
      "      (conv1): Conv2d(0.037 M, 0.334% Params, 0.038 GMac, 6.859% MACs, 64, 64, kernel_size=(3, 3), stride=(1, 1), padding=(1, 1))\n",
      "      (bn1): BatchNorm2d(0.0 M, 0.001% Params, 0.0 GMac, 0.024% MACs, 64, eps=1e-05, momentum=0.1, affine=True, track_running_stats=True)\n",
      "      (rl1): ReLU(0.0 M, 0.000% Params, 0.0 GMac, 0.012% MACs, inplace=True)\n",
      "    )\n",
      "    (1): PlainBlock(\n",
      "      0.074 M, 0.671% Params, 0.076 GMac, 13.789% MACs, \n",
      "      (conv0): Conv2d(0.037 M, 0.334% Params, 0.038 GMac, 6.859% MACs, 64, 64, kernel_size=(3, 3), stride=(1, 1), padding=(1, 1))\n",
      "      (bn0): BatchNorm2d(0.0 M, 0.001% Params, 0.0 GMac, 0.024% MACs, 64, eps=1e-05, momentum=0.1, affine=True, track_running_stats=True)\n",
      "      (rl0): ReLU(0.0 M, 0.000% Params, 0.0 GMac, 0.012% MACs, inplace=True)\n",
      "      (conv1): Conv2d(0.037 M, 0.334% Params, 0.038 GMac, 6.859% MACs, 64, 64, kernel_size=(3, 3), stride=(1, 1), padding=(1, 1))\n",
      "      (bn1): BatchNorm2d(0.0 M, 0.001% Params, 0.0 GMac, 0.024% MACs, 64, eps=1e-05, momentum=0.1, affine=True, track_running_stats=True)\n",
      "      (rl1): ReLU(0.0 M, 0.000% Params, 0.0 GMac, 0.012% MACs, inplace=True)\n",
      "    )\n",
      "  )\n",
      "  (layer2): Sequential(\n",
      "    0.518 M, 4.684% Params, 0.133 GMac, 24.059% MACs, \n",
      "    (0): PlainBlock(\n",
      "      0.222 M, 2.009% Params, 0.057 GMac, 10.318% MACs, \n",
      "      (conv0): Conv2d(0.074 M, 0.668% Params, 0.019 GMac, 3.429% MACs, 64, 128, kernel_size=(3, 3), stride=(2, 2), padding=(1, 1))\n",
      "      (bn0): BatchNorm2d(0.0 M, 0.002% Params, 0.0 GMac, 0.012% MACs, 128, eps=1e-05, momentum=0.1, affine=True, track_running_stats=True)\n",
      "      (rl0): ReLU(0.0 M, 0.000% Params, 0.0 GMac, 0.006% MACs, inplace=True)\n",
      "      (conv1): Conv2d(0.148 M, 1.336% Params, 0.038 GMac, 6.853% MACs, 128, 128, kernel_size=(3, 3), stride=(1, 1), padding=(1, 1))\n",
      "      (bn1): BatchNorm2d(0.0 M, 0.002% Params, 0.0 GMac, 0.012% MACs, 128, eps=1e-05, momentum=0.1, affine=True, track_running_stats=True)\n",
      "      (rl1): ReLU(0.0 M, 0.000% Params, 0.0 GMac, 0.006% MACs, inplace=True)\n",
      "    )\n",
      "    (1): PlainBlock(\n",
      "      0.296 M, 2.676% Params, 0.076 GMac, 13.741% MACs, \n",
      "      (conv0): Conv2d(0.148 M, 1.336% Params, 0.038 GMac, 6.853% MACs, 128, 128, kernel_size=(3, 3), stride=(1, 1), padding=(1, 1))\n",
      "      (bn0): BatchNorm2d(0.0 M, 0.002% Params, 0.0 GMac, 0.012% MACs, 128, eps=1e-05, momentum=0.1, affine=True, track_running_stats=True)\n",
      "      (rl0): ReLU(0.0 M, 0.000% Params, 0.0 GMac, 0.006% MACs, inplace=True)\n",
      "      (conv1): Conv2d(0.148 M, 1.336% Params, 0.038 GMac, 6.853% MACs, 128, 128, kernel_size=(3, 3), stride=(1, 1), padding=(1, 1))\n",
      "      (bn1): BatchNorm2d(0.0 M, 0.002% Params, 0.0 GMac, 0.012% MACs, 128, eps=1e-05, momentum=0.1, affine=True, track_running_stats=True)\n",
      "      (rl1): ReLU(0.0 M, 0.000% Params, 0.0 GMac, 0.006% MACs, inplace=True)\n",
      "    )\n",
      "  )\n",
      "  (layer3): Sequential(\n",
      "    2.067 M, 18.710% Params, 0.132 GMac, 24.011% MACs, \n",
      "    (0): PlainBlock(\n",
      "      0.886 M, 8.020% Params, 0.057 GMac, 10.294% MACs, \n",
      "      (conv0): Conv2d(0.295 M, 2.671% Params, 0.019 GMac, 3.426% MACs, 128, 256, kernel_size=(3, 3), stride=(2, 2), padding=(1, 1))\n",
      "      (bn0): BatchNorm2d(0.001 M, 0.005% Params, 0.0 GMac, 0.006% MACs, 256, eps=1e-05, momentum=0.1, affine=True, track_running_stats=True)\n",
      "      (rl0): ReLU(0.0 M, 0.000% Params, 0.0 GMac, 0.003% MACs, inplace=True)\n",
      "      (conv1): Conv2d(0.59 M, 5.340% Params, 0.038 GMac, 6.850% MACs, 256, 256, kernel_size=(3, 3), stride=(1, 1), padding=(1, 1))\n",
      "      (bn1): BatchNorm2d(0.001 M, 0.005% Params, 0.0 GMac, 0.006% MACs, 256, eps=1e-05, momentum=0.1, affine=True, track_running_stats=True)\n",
      "      (rl1): ReLU(0.0 M, 0.000% Params, 0.0 GMac, 0.003% MACs, inplace=True)\n",
      "    )\n",
      "    (1): PlainBlock(\n",
      "      1.181 M, 10.689% Params, 0.076 GMac, 13.717% MACs, \n",
      "      (conv0): Conv2d(0.59 M, 5.340% Params, 0.038 GMac, 6.850% MACs, 256, 256, kernel_size=(3, 3), stride=(1, 1), padding=(1, 1))\n",
      "      (bn0): BatchNorm2d(0.001 M, 0.005% Params, 0.0 GMac, 0.006% MACs, 256, eps=1e-05, momentum=0.1, affine=True, track_running_stats=True)\n",
      "      (rl0): ReLU(0.0 M, 0.000% Params, 0.0 GMac, 0.003% MACs, inplace=True)\n",
      "      (conv1): Conv2d(0.59 M, 5.340% Params, 0.038 GMac, 6.850% MACs, 256, 256, kernel_size=(3, 3), stride=(1, 1), padding=(1, 1))\n",
      "      (bn1): BatchNorm2d(0.001 M, 0.005% Params, 0.0 GMac, 0.006% MACs, 256, eps=1e-05, momentum=0.1, affine=True, track_running_stats=True)\n",
      "      (rl1): ReLU(0.0 M, 0.000% Params, 0.0 GMac, 0.003% MACs, inplace=True)\n",
      "    )\n",
      "  )\n",
      "  (layer4): Sequential(\n",
      "    8.264 M, 74.783% Params, 0.132 GMac, 23.987% MACs, \n",
      "    (0): PlainBlock(\n",
      "      3.542 M, 32.054% Params, 0.057 GMac, 10.282% MACs, \n",
      "      (conv0): Conv2d(1.18 M, 10.680% Params, 0.019 GMac, 3.425% MACs, 256, 512, kernel_size=(3, 3), stride=(2, 2), padding=(1, 1))\n",
      "      (bn0): BatchNorm2d(0.001 M, 0.009% Params, 0.0 GMac, 0.003% MACs, 512, eps=1e-05, momentum=0.1, affine=True, track_running_stats=True)\n",
      "      (rl0): ReLU(0.0 M, 0.000% Params, 0.0 GMac, 0.001% MACs, inplace=True)\n",
      "      (conv1): Conv2d(2.36 M, 21.355% Params, 0.038 GMac, 6.848% MACs, 512, 512, kernel_size=(3, 3), stride=(1, 1), padding=(1, 1))\n",
      "      (bn1): BatchNorm2d(0.001 M, 0.009% Params, 0.0 GMac, 0.003% MACs, 512, eps=1e-05, momentum=0.1, affine=True, track_running_stats=True)\n",
      "      (rl1): ReLU(0.0 M, 0.000% Params, 0.0 GMac, 0.001% MACs, inplace=True)\n",
      "    )\n",
      "    (1): PlainBlock(\n",
      "      4.722 M, 42.729% Params, 0.076 GMac, 13.705% MACs, \n",
      "      (conv0): Conv2d(2.36 M, 21.355% Params, 0.038 GMac, 6.848% MACs, 512, 512, kernel_size=(3, 3), stride=(1, 1), padding=(1, 1))\n",
      "      (bn0): BatchNorm2d(0.001 M, 0.009% Params, 0.0 GMac, 0.003% MACs, 512, eps=1e-05, momentum=0.1, affine=True, track_running_stats=True)\n",
      "      (rl0): ReLU(0.0 M, 0.000% Params, 0.0 GMac, 0.001% MACs, inplace=True)\n",
      "      (conv1): Conv2d(2.36 M, 21.355% Params, 0.038 GMac, 6.848% MACs, 512, 512, kernel_size=(3, 3), stride=(1, 1), padding=(1, 1))\n",
      "      (bn1): BatchNorm2d(0.001 M, 0.009% Params, 0.0 GMac, 0.003% MACs, 512, eps=1e-05, momentum=0.1, affine=True, track_running_stats=True)\n",
      "      (rl1): ReLU(0.0 M, 0.000% Params, 0.0 GMac, 0.001% MACs, inplace=True)\n",
      "    )\n",
      "  )\n",
      "  (linear): Linear(0.051 M, 0.464% Params, 0.0 GMac, 0.009% MACs, in_features=512, out_features=100, bias=True)\n",
      ")\n",
      "Computational complexity:       0.55 GMac\n",
      "Number of parameters:           11.05 M \n",
      "\n",
      "\n",
      "\tEpoch number: 1 - training loss: 3.8723239618189194 - test accuracy: 15.45\n",
      "\tEpoch number: 2 - training loss: 3.2092640973113076 - test accuracy: 26.27\n",
      "\tEpoch number: 3 - training loss: 2.741701038902068 - test accuracy: 30.19\n",
      "\tEpoch number: 4 - training loss: 2.3666592537594573 - test accuracy: 34.28\n",
      "\tEpoch number: 5 - training loss: 2.0762345476833453 - test accuracy: 40.8\n",
      "\tEpoch number: 6 - training loss: 1.8570059547034066 - test accuracy: 44.81\n",
      "\tEpoch number: 7 - training loss: 1.6843307554874274 - test accuracy: 50.080000000000005\n",
      "\tEpoch number: 8 - training loss: 1.5453131583035755 - test accuracy: 50.33\n",
      "\tEpoch number: 9 - training loss: 1.4198471109580506 - test accuracy: 52.980000000000004\n",
      "\tEpoch number: 10 - training loss: 1.3202160325501582 - test accuracy: 56.13\n",
      "\tEpoch number: 11 - training loss: 1.222897370453076 - test accuracy: 55.50000000000001\n",
      "\tEpoch number: 12 - training loss: 1.1458643022400643 - test accuracy: 57.58\n",
      "\tEpoch number: 13 - training loss: 1.0684382148715845 - test accuracy: 56.44\n",
      "\tEpoch number: 14 - training loss: 1.0061335167311647 - test accuracy: 58.77\n",
      "\tEpoch number: 15 - training loss: 0.9458869206326087 - test accuracy: 60.86\n",
      "\tEpoch number: 16 - training loss: 0.8819745408604517 - test accuracy: 61.59\n",
      "\tEpoch number: 17 - training loss: 0.8290951125457159 - test accuracy: 62.72\n",
      "\tEpoch number: 18 - training loss: 0.7724769005690084 - test accuracy: 63.29\n",
      "\tEpoch number: 19 - training loss: 0.7250180018832312 - test accuracy: 62.519999999999996\n",
      "\tEpoch number: 20 - training loss: 0.6799500049532526 - test accuracy: 63.85999999999999\n",
      "\tEpoch number: 21 - training loss: 0.6396424011196322 - test accuracy: 64.14\n",
      "\tEpoch number: 22 - training loss: 0.595298510073396 - test accuracy: 64.1\n",
      "\tEpoch number: 23 - training loss: 0.5564989391190317 - test accuracy: 65.64999999999999\n",
      "\tEpoch number: 24 - training loss: 0.5215700610214488 - test accuracy: 64.86\n",
      "\tEpoch number: 25 - training loss: 0.4830033913292848 - test accuracy: 63.77\n",
      "\tEpoch number: 26 - training loss: 0.4570018095738443 - test accuracy: 65.22\n",
      "\tEpoch number: 27 - training loss: 0.4233376506877982 - test accuracy: 64.58\n",
      "\tEpoch number: 28 - training loss: 0.38726361271213083 - test accuracy: 65.28\n",
      "\tEpoch number: 29 - training loss: 0.36146732333980863 - test accuracy: 66.01\n",
      "\tEpoch number: 30 - training loss: 0.33312310930103295 - test accuracy: 65.68\n",
      "\tEpoch number: 31 - training loss: 0.3203836419926885 - test accuracy: 66.5\n",
      "\tEpoch number: 32 - training loss: 0.28389189329446124 - test accuracy: 66.75\n",
      "\tEpoch number: 33 - training loss: 0.2628844693646102 - test accuracy: 66.02\n",
      "\tEpoch number: 34 - training loss: 0.2583754609536637 - test accuracy: 65.8\n",
      "\tEpoch number: 35 - training loss: 0.23785676471793743 - test accuracy: 67.2\n",
      "\tEpoch number: 36 - training loss: 0.21475490030196623 - test accuracy: 66.66\n",
      "\tEpoch number: 37 - training loss: 0.20218140237471638 - test accuracy: 66.82000000000001\n",
      "\tEpoch number: 38 - training loss: 0.19111748003517576 - test accuracy: 67.82000000000001\n",
      "\tEpoch number: 39 - training loss: 0.17130510930133902 - test accuracy: 67.78999999999999\n",
      "\tEpoch number: 40 - training loss: 0.1579445044479102 - test accuracy: 67.71000000000001\n",
      "\tEpoch number: 41 - training loss: 0.15595374911871102 - test accuracy: 67.72\n",
      "\tEpoch number: 42 - training loss: 0.14048834902513058 - test accuracy: 68.51\n",
      "\tEpoch number: 43 - training loss: 0.1289767482320366 - test accuracy: 68.4\n",
      "\tEpoch number: 44 - training loss: 0.12173675280778914 - test accuracy: 68.23\n",
      "\tEpoch number: 45 - training loss: 0.1176538943882336 - test accuracy: 68.35\n",
      "\tEpoch number: 46 - training loss: 0.10495671885245292 - test accuracy: 68.58\n",
      "\tEpoch number: 47 - training loss: 0.09519147647120764 - test accuracy: 68.58\n",
      "\tEpoch number: 48 - training loss: 0.0933810877030158 - test accuracy: 68.02\n",
      "\tEpoch number: 49 - training loss: 0.0889454034283338 - test accuracy: 67.36999999999999\n",
      "\tEpoch number: 50 - training loss: 0.08365600876262426 - test accuracy: 68.66\n",
      "\tEpoch number: 51 - training loss: 0.07407819611661116 - test accuracy: 68.42\n",
      "\tEpoch number: 52 - training loss: 0.07605488931812594 - test accuracy: 67.78999999999999\n",
      "\tEpoch number: 53 - training loss: 0.07124812157867509 - test accuracy: 69.13\n",
      "\tEpoch number: 54 - training loss: 0.07001121456513319 - test accuracy: 68.61\n",
      "\tEpoch number: 55 - training loss: 0.06793499037699627 - test accuracy: 68.54\n",
      "\tEpoch number: 56 - training loss: 0.0652995322690443 - test accuracy: 68.99\n",
      "\tEpoch number: 57 - training loss: 0.059575123712420464 - test accuracy: 69.04\n",
      "\tEpoch number: 58 - training loss: 0.05517750256278021 - test accuracy: 69.53\n",
      "\tEpoch number: 59 - training loss: 0.06144556591806509 - test accuracy: 69.41000000000001\n",
      "\tEpoch number: 60 - training loss: 0.05172404011382776 - test accuracy: 69.0\n",
      "\tEpoch number: 61 - training loss: 0.04944202973676459 - test accuracy: 68.76\n",
      "\tEpoch number: 62 - training loss: 0.050026139363532174 - test accuracy: 68.82000000000001\n",
      "\tEpoch number: 63 - training loss: 0.04277399305225638 - test accuracy: 69.21000000000001\n",
      "\tEpoch number: 64 - training loss: 0.04114210266915276 - test accuracy: 69.45\n",
      "\tEpoch number: 65 - training loss: 0.03879060963992877 - test accuracy: 69.98\n",
      "\tEpoch number: 66 - training loss: 0.037108806659803366 - test accuracy: 69.77\n",
      "\tEpoch number: 67 - training loss: 0.03948352302965301 - test accuracy: 69.12\n",
      "\tEpoch number: 68 - training loss: 0.0392117525458031 - test accuracy: 69.57\n",
      "\tEpoch number: 69 - training loss: 0.03734558249068687 - test accuracy: 69.39999999999999\n",
      "\tEpoch number: 70 - training loss: 0.0385509445939375 - test accuracy: 69.89\n",
      "\tEpoch number: 71 - training loss: 0.034192045328809935 - test accuracy: 69.87\n",
      "\tEpoch number: 72 - training loss: 0.030726034480058933 - test accuracy: 70.13000000000001\n",
      "\tEpoch number: 73 - training loss: 0.029673371435431264 - test accuracy: 70.11\n",
      "\tEpoch number: 74 - training loss: 0.02917295359932553 - test accuracy: 70.21\n",
      "\tEpoch number: 75 - training loss: 0.02805022415145279 - test accuracy: 69.62\n",
      "\tEpoch number: 76 - training loss: 0.02860093969956536 - test accuracy: 70.30999999999999\n",
      "\tEpoch number: 77 - training loss: 0.023568856501308702 - test accuracy: 69.67\n",
      "\tEpoch number: 78 - training loss: 0.021613900637840067 - test accuracy: 70.17999999999999\n",
      "\tEpoch number: 79 - training loss: 0.02198742449169269 - test accuracy: 70.19\n",
      "\tEpoch number: 80 - training loss: 0.021007236845962837 - test accuracy: 69.86\n",
      "\tEpoch number: 81 - training loss: 0.02342386257446483 - test accuracy: 69.95\n",
      "\tEpoch number: 82 - training loss: 0.02147740887387482 - test accuracy: 70.30999999999999\n",
      "\tEpoch number: 83 - training loss: 0.01753999766372049 - test accuracy: 70.56\n",
      "\tEpoch number: 84 - training loss: 0.020673977492181847 - test accuracy: 70.12\n",
      "\tEpoch number: 85 - training loss: 0.017088062408596963 - test accuracy: 70.23\n",
      "\tEpoch number: 86 - training loss: 0.017675971483711698 - test accuracy: 69.92\n",
      "\tEpoch number: 87 - training loss: 0.015639631087174807 - test accuracy: 71.1\n",
      "\tEpoch number: 88 - training loss: 0.018224468816767262 - test accuracy: 70.22\n",
      "\tEpoch number: 89 - training loss: 0.01783218061851571 - test accuracy: 70.77\n",
      "\tEpoch number: 90 - training loss: 0.016740730270514707 - test accuracy: 70.85000000000001\n",
      "\tEpoch number: 91 - training loss: 0.015066914760586246 - test accuracy: 70.67999999999999\n",
      "\tEpoch number: 92 - training loss: 0.01420281242455363 - test accuracy: 70.45\n",
      "\tEpoch number: 93 - training loss: 0.016259051687882074 - test accuracy: 70.03\n",
      "\tEpoch number: 94 - training loss: 0.017908961719373607 - test accuracy: 70.1\n",
      "\tEpoch number: 95 - training loss: 0.015736295472439904 - test accuracy: 70.21\n",
      "\tEpoch number: 96 - training loss: 0.014029200262654468 - test accuracy: 71.1\n",
      "\tEpoch number: 97 - training loss: 0.013086978601568076 - test accuracy: 70.76\n",
      "\tEpoch number: 98 - training loss: 0.012152753229660298 - test accuracy: 70.91\n",
      "\tEpoch number: 99 - training loss: 0.012725146221773474 - test accuracy: 70.62\n",
      "\tEpoch number: 100 - training loss: 0.013801127660285939 - test accuracy: 70.55\n"
     ]
    }
   ],
   "source": [
    "# train PlainBlock neural network\n",
    "plainnet_model = Net18(PlainBlock, [2, 2, 2, 2], 100).cuda()\n",
    "\n",
    "macs, params = get_model_complexity_info(plainnet_model, (3, 32, 32), as_strings=True, print_per_layer_stat=True, verbose=True)\n",
    "print('{:<30}  {:<8}'.format('Computational complexity: ', macs))\n",
    "print('{:<30}  {:<8}'.format('Number of parameters: ', params))\n",
    "print(\"\\n\")\n",
    "\n",
    "# train the network\n",
    "train_loss, test_acc = fit(plainnet_model, train_loader, test_loader, NUM_EPOCH, LEARNING_RATE, CRITERION)\n"
   ]
  },
  {
   "cell_type": "code",
   "execution_count": 17,
   "metadata": {
    "colab": {
     "base_uri": "https://localhost:8080/",
     "height": 683
    },
    "colab_type": "code",
    "executionInfo": {
     "elapsed": 1034,
     "status": "ok",
     "timestamp": 1588315211011,
     "user": {
      "displayName": "Victor Cappa",
      "photoUrl": "",
      "userId": "13221236169392054040"
     },
     "user_tz": -540
    },
    "id": "APO7_NKtnjju",
    "outputId": "a4d5ecc1-d7e9-4c10-edd8-636e71b14a25"
   },
   "outputs": [
    {
     "data": {
      "image/png": "[encoded data removed]",
      "text/plain": [
       "<Figure size 720x360 with 1 Axes>"
      ]
     },
     "metadata": {
      "needs_background": "light",
      "tags": []
     },
     "output_type": "display_data"
    },
    {
     "data": {
      "image/png": "[encoded data removed]",
      "text/plain": [
       "<Figure size 720x360 with 1 Axes>"
      ]
     },
     "metadata": {
      "needs_background": "light",
      "tags": []
     },
     "output_type": "display_data"
    }
   ],
   "source": [
    "# plot train loss\n",
    "fig = plt.figure(figsize=(10, 5))\n",
    "plt.title(\"Training loss plot of 18-layer PlainBlock CNN\")\n",
    "plt.xlabel(\"epoch\")\n",
    "plt.ylabel(\"train loss\")\n",
    "plt.grid()\n",
    "plt.plot(list(range(1,NUM_EPOCH+1)), train_loss, label=\"train loss\")\n",
    "plt.legend()\n",
    "plt.show()\n",
    "\n",
    "# plot test accuracy\n",
    "fig = plt.figure(figsize=(10, 5))\n",
    "plt.title(\"Test accuracy plot of 18-layer PlainBlock CNN\")\n",
    "plt.xlabel(\"epoch\")\n",
    "plt.ylabel(\"test accuracy\")\n",
    "plt.grid()\n",
    "plt.plot(list(range(1,NUM_EPOCH+1)), test_acc, label=\"test accuracy\")\n",
    "plt.legend()\n",
    "plt.show()"
   ]
  },
  {
   "cell_type": "markdown",
   "metadata": {
    "colab_type": "text",
    "id": "AnbRejHG9rrn"
   },
   "source": [
    "## Problem 2: Plot the training loss and test accuracy of ResNet with plotted result of plain network"
   ]
  },
  {
   "cell_type": "code",
   "execution_count": 24,
   "metadata": {
    "colab": {
     "base_uri": "https://localhost:8080/",
     "height": 1000
    },
    "colab_type": "code",
    "executionInfo": {
     "elapsed": 5999700,
     "status": "ok",
     "timestamp": 1588322626632,
     "user": {
      "displayName": "Victor Cappa",
      "photoUrl": "",
      "userId": "13221236169392054040"
     },
     "user_tz": -540
    },
    "id": "htbtmQfWmMxj",
    "outputId": "d3ad7edb-d8df-4894-f753-4974d5ceccf5"
   },
   "outputs": [
    {
     "name": "stdout",
     "output_type": "stream",
     "text": [
      "Warning: module ResidualBlock is treated as a zero-op.\n",
      "Warning: module Net18 is treated as a zero-op.\n",
      "Net18(\n",
      "  11.223 M, 100.000% Params, 0.558 GMac, 100.000% MACs, \n",
      "  (conv0): Conv2d(0.002 M, 0.015% Params, 0.002 GMac, 0.317% MACs, 3, 64, kernel_size=(3, 3), stride=(1, 1), padding=(1, 1), bias=False)\n",
      "  (bn0): BatchNorm2d(0.0 M, 0.001% Params, 0.0 GMac, 0.024% MACs, 64, eps=1e-05, momentum=0.1, affine=True, track_running_stats=True)\n",
      "  (relu): ReLU(0.0 M, 0.000% Params, 0.0 GMac, 0.012% MACs, inplace=True)\n",
      "  (layer1): Sequential(\n",
      "    0.148 M, 1.321% Params, 0.152 GMac, 27.263% MACs, \n",
      "    (0): ResidualBlock(\n",
      "      0.074 M, 0.660% Params, 0.076 GMac, 13.632% MACs, \n",
      "      (conv0): Conv2d(0.037 M, 0.329% Params, 0.038 GMac, 6.781% MACs, 64, 64, kernel_size=(3, 3), stride=(1, 1), padding=(1, 1))\n",
      "      (bn0): BatchNorm2d(0.0 M, 0.001% Params, 0.0 GMac, 0.024% MACs, 64, eps=1e-05, momentum=0.1, affine=True, track_running_stats=True)\n",
      "      (rl0): ReLU(0.0 M, 0.000% Params, 0.0 GMac, 0.012% MACs, )\n",
      "      (conv1): Conv2d(0.037 M, 0.329% Params, 0.038 GMac, 6.781% MACs, 64, 64, kernel_size=(3, 3), stride=(1, 1), padding=(1, 1))\n",
      "      (bn1): BatchNorm2d(0.0 M, 0.001% Params, 0.0 GMac, 0.024% MACs, 64, eps=1e-05, momentum=0.1, affine=True, track_running_stats=True)\n",
      "      (rl1): ReLU(0.0 M, 0.000% Params, 0.0 GMac, 0.012% MACs, )\n",
      "    )\n",
      "    (1): ResidualBlock(\n",
      "      0.074 M, 0.660% Params, 0.076 GMac, 13.632% MACs, \n",
      "      (conv0): Conv2d(0.037 M, 0.329% Params, 0.038 GMac, 6.781% MACs, 64, 64, kernel_size=(3, 3), stride=(1, 1), padding=(1, 1))\n",
      "      (bn0): BatchNorm2d(0.0 M, 0.001% Params, 0.0 GMac, 0.024% MACs, 64, eps=1e-05, momentum=0.1, affine=True, track_running_stats=True)\n",
      "      (rl0): ReLU(0.0 M, 0.000% Params, 0.0 GMac, 0.012% MACs, )\n",
      "      (conv1): Conv2d(0.037 M, 0.329% Params, 0.038 GMac, 6.781% MACs, 64, 64, kernel_size=(3, 3), stride=(1, 1), padding=(1, 1))\n",
      "      (bn1): BatchNorm2d(0.0 M, 0.001% Params, 0.0 GMac, 0.024% MACs, 64, eps=1e-05, momentum=0.1, affine=True, track_running_stats=True)\n",
      "      (rl1): ReLU(0.0 M, 0.000% Params, 0.0 GMac, 0.012% MACs, )\n",
      "    )\n",
      "  )\n",
      "  (layer2): Sequential(\n",
      "    0.526 M, 4.686% Params, 0.135 GMac, 24.167% MACs, \n",
      "    (0): ResidualBlock(\n",
      "      0.23 M, 2.052% Params, 0.059 GMac, 10.582% MACs, \n",
      "      (conv0): Conv2d(0.074 M, 0.658% Params, 0.019 GMac, 3.390% MACs, 64, 128, kernel_size=(3, 3), stride=(2, 2), padding=(1, 1))\n",
      "      (bn0): BatchNorm2d(0.0 M, 0.002% Params, 0.0 GMac, 0.012% MACs, 128, eps=1e-05, momentum=0.1, affine=True, track_running_stats=True)\n",
      "      (rl0): ReLU(0.0 M, 0.000% Params, 0.0 GMac, 0.006% MACs, )\n",
      "      (conv1): Conv2d(0.148 M, 1.315% Params, 0.038 GMac, 6.775% MACs, 128, 128, kernel_size=(3, 3), stride=(1, 1), padding=(1, 1))\n",
      "      (bn1): BatchNorm2d(0.0 M, 0.002% Params, 0.0 GMac, 0.012% MACs, 128, eps=1e-05, momentum=0.1, affine=True, track_running_stats=True)\n",
      "      (projection_conv): Conv2d(0.008 M, 0.074% Params, 0.002 GMac, 0.382% MACs, 64, 128, kernel_size=(1, 1), stride=(2, 2))\n",
      "      (rl1): ReLU(0.0 M, 0.000% Params, 0.0 GMac, 0.006% MACs, )\n",
      "    )\n",
      "    (1): ResidualBlock(\n",
      "      0.296 M, 2.635% Params, 0.076 GMac, 13.585% MACs, \n",
      "      (conv0): Conv2d(0.148 M, 1.315% Params, 0.038 GMac, 6.775% MACs, 128, 128, kernel_size=(3, 3), stride=(1, 1), padding=(1, 1))\n",
      "      (bn0): BatchNorm2d(0.0 M, 0.002% Params, 0.0 GMac, 0.012% MACs, 128, eps=1e-05, momentum=0.1, affine=True, track_running_stats=True)\n",
      "      (rl0): ReLU(0.0 M, 0.000% Params, 0.0 GMac, 0.006% MACs, )\n",
      "      (conv1): Conv2d(0.148 M, 1.315% Params, 0.038 GMac, 6.775% MACs, 128, 128, kernel_size=(3, 3), stride=(1, 1), padding=(1, 1))\n",
      "      (bn1): BatchNorm2d(0.0 M, 0.002% Params, 0.0 GMac, 0.012% MACs, 128, eps=1e-05, momentum=0.1, affine=True, track_running_stats=True)\n",
      "      (rl1): ReLU(0.0 M, 0.000% Params, 0.0 GMac, 0.006% MACs, )\n",
      "    )\n",
      "  )\n",
      "  (layer3): Sequential(\n",
      "    2.1 M, 18.716% Params, 0.134 GMac, 24.117% MACs, \n",
      "    (0): ResidualBlock(\n",
      "      0.919 M, 8.191% Params, 0.059 GMac, 10.556% MACs, \n",
      "      (conv0): Conv2d(0.295 M, 2.630% Params, 0.019 GMac, 3.387% MACs, 128, 256, kernel_size=(3, 3), stride=(2, 2), padding=(1, 1))\n",
      "      (bn0): BatchNorm2d(0.001 M, 0.005% Params, 0.0 GMac, 0.006% MACs, 256, eps=1e-05, momentum=0.1, affine=True, track_running_stats=True)\n",
      "      (rl0): ReLU(0.0 M, 0.000% Params, 0.0 GMac, 0.003% MACs, )\n",
      "      (conv1): Conv2d(0.59 M, 5.258% Params, 0.038 GMac, 6.772% MACs, 256, 256, kernel_size=(3, 3), stride=(1, 1), padding=(1, 1))\n",
      "      (bn1): BatchNorm2d(0.001 M, 0.005% Params, 0.0 GMac, 0.006% MACs, 256, eps=1e-05, momentum=0.1, affine=True, track_running_stats=True)\n",
      "      (projection_conv): Conv2d(0.033 M, 0.294% Params, 0.002 GMac, 0.379% MACs, 128, 256, kernel_size=(1, 1), stride=(2, 2))\n",
      "      (rl1): ReLU(0.0 M, 0.000% Params, 0.0 GMac, 0.003% MACs, )\n",
      "    )\n",
      "    (1): ResidualBlock(\n",
      "      1.181 M, 10.525% Params, 0.076 GMac, 13.561% MACs, \n",
      "      (conv0): Conv2d(0.59 M, 5.258% Params, 0.038 GMac, 6.772% MACs, 256, 256, kernel_size=(3, 3), stride=(1, 1), padding=(1, 1))\n",
      "      (bn0): BatchNorm2d(0.001 M, 0.005% Params, 0.0 GMac, 0.006% MACs, 256, eps=1e-05, momentum=0.1, affine=True, track_running_stats=True)\n",
      "      (rl0): ReLU(0.0 M, 0.000% Params, 0.0 GMac, 0.003% MACs, )\n",
      "      (conv1): Conv2d(0.59 M, 5.258% Params, 0.038 GMac, 6.772% MACs, 256, 256, kernel_size=(3, 3), stride=(1, 1), padding=(1, 1))\n",
      "      (bn1): BatchNorm2d(0.001 M, 0.005% Params, 0.0 GMac, 0.006% MACs, 256, eps=1e-05, momentum=0.1, affine=True, track_running_stats=True)\n",
      "      (rl1): ReLU(0.0 M, 0.000% Params, 0.0 GMac, 0.003% MACs, )\n",
      "    )\n",
      "  )\n",
      "  (layer4): Sequential(\n",
      "    8.395 M, 74.804% Params, 0.134 GMac, 24.092% MACs, \n",
      "    (0): ResidualBlock(\n",
      "      3.674 M, 32.733% Params, 0.059 GMac, 10.542% MACs, \n",
      "      (conv0): Conv2d(1.18 M, 10.515% Params, 0.019 GMac, 3.386% MACs, 256, 512, kernel_size=(3, 3), stride=(2, 2), padding=(1, 1))\n",
      "      (bn0): BatchNorm2d(0.001 M, 0.009% Params, 0.0 GMac, 0.003% MACs, 512, eps=1e-05, momentum=0.1, affine=True, track_running_stats=True)\n",
      "      (rl0): ReLU(0.0 M, 0.000% Params, 0.0 GMac, 0.001% MACs, )\n",
      "      (conv1): Conv2d(2.36 M, 21.026% Params, 0.038 GMac, 6.770% MACs, 512, 512, kernel_size=(3, 3), stride=(1, 1), padding=(1, 1))\n",
      "      (bn1): BatchNorm2d(0.001 M, 0.009% Params, 0.0 GMac, 0.003% MACs, 512, eps=1e-05, momentum=0.1, affine=True, track_running_stats=True)\n",
      "      (projection_conv): Conv2d(0.132 M, 1.172% Params, 0.002 GMac, 0.378% MACs, 256, 512, kernel_size=(1, 1), stride=(2, 2))\n",
      "      (rl1): ReLU(0.0 M, 0.000% Params, 0.0 GMac, 0.001% MACs, )\n",
      "    )\n",
      "    (1): ResidualBlock(\n",
      "      4.722 M, 42.071% Params, 0.076 GMac, 13.549% MACs, \n",
      "      (conv0): Conv2d(2.36 M, 21.026% Params, 0.038 GMac, 6.770% MACs, 512, 512, kernel_size=(3, 3), stride=(1, 1), padding=(1, 1))\n",
      "      (bn0): BatchNorm2d(0.001 M, 0.009% Params, 0.0 GMac, 0.003% MACs, 512, eps=1e-05, momentum=0.1, affine=True, track_running_stats=True)\n",
      "      (rl0): ReLU(0.0 M, 0.000% Params, 0.0 GMac, 0.001% MACs, )\n",
      "      (conv1): Conv2d(2.36 M, 21.026% Params, 0.038 GMac, 6.770% MACs, 512, 512, kernel_size=(3, 3), stride=(1, 1), padding=(1, 1))\n",
      "      (bn1): BatchNorm2d(0.001 M, 0.009% Params, 0.0 GMac, 0.003% MACs, 512, eps=1e-05, momentum=0.1, affine=True, track_running_stats=True)\n",
      "      (rl1): ReLU(0.0 M, 0.000% Params, 0.0 GMac, 0.001% MACs, )\n",
      "    )\n",
      "  )\n",
      "  (linear): Linear(0.051 M, 0.457% Params, 0.0 GMac, 0.009% MACs, in_features=512, out_features=100, bias=True)\n",
      ")\n",
      "Computational complexity:       0.56 GMac\n",
      "Number of parameters:           11.22 M \n",
      "\n",
      "\n",
      "\tEpoch number: 1 - training loss: 3.7041870669635664 - test accuracy: 19.35\n",
      "\tEpoch number: 2 - training loss: 2.921106529967559 - test accuracy: 29.299999999999997\n",
      "\tEpoch number: 3 - training loss: 2.3913935121063075 - test accuracy: 36.99\n",
      "\tEpoch number: 4 - training loss: 2.027064904532469 - test accuracy: 38.74\n",
      "\tEpoch number: 5 - training loss: 1.7766064560931663 - test accuracy: 48.39\n",
      "\tEpoch number: 6 - training loss: 1.591082564400285 - test accuracy: 50.1\n",
      "\tEpoch number: 7 - training loss: 1.4349347170051712 - test accuracy: 54.279999999999994\n",
      "\tEpoch number: 8 - training loss: 1.3048625169202799 - test accuracy: 56.699999999999996\n",
      "\tEpoch number: 9 - training loss: 1.2009010785985785 - test accuracy: 59.550000000000004\n",
      "\tEpoch number: 10 - training loss: 1.101668398246131 - test accuracy: 60.14000000000001\n",
      "\tEpoch number: 11 - training loss: 1.014172366817894 - test accuracy: 59.88\n",
      "\tEpoch number: 12 - training loss: 0.9416864066172743 - test accuracy: 61.23\n",
      "\tEpoch number: 13 - training loss: 0.8680697431039932 - test accuracy: 61.29\n",
      "\tEpoch number: 14 - training loss: 0.7931997545844759 - test accuracy: 62.7\n",
      "\tEpoch number: 15 - training loss: 0.7386431152863271 - test accuracy: 62.529999999999994\n",
      "\tEpoch number: 16 - training loss: 0.6771674139420395 - test accuracy: 64.69\n",
      "\tEpoch number: 17 - training loss: 0.6266359627399298 - test accuracy: 64.16\n",
      "\tEpoch number: 18 - training loss: 0.5757986037322628 - test accuracy: 65.63\n",
      "\tEpoch number: 19 - training loss: 0.5231659205063529 - test accuracy: 65.13\n",
      "\tEpoch number: 20 - training loss: 0.4832003730947099 - test accuracy: 64.12\n",
      "\tEpoch number: 21 - training loss: 0.44526306297772983 - test accuracy: 65.86\n",
      "\tEpoch number: 22 - training loss: 0.40380794857926383 - test accuracy: 65.67\n",
      "\tEpoch number: 23 - training loss: 0.3644328249994751 - test accuracy: 65.92\n",
      "\tEpoch number: 24 - training loss: 0.33880157212314704 - test accuracy: 66.35\n",
      "\tEpoch number: 25 - training loss: 0.30435947948099706 - test accuracy: 67.73\n",
      "\tEpoch number: 26 - training loss: 0.27131731739586884 - test accuracy: 67.49000000000001\n",
      "\tEpoch number: 27 - training loss: 0.2459336871190754 - test accuracy: 68.05\n",
      "\tEpoch number: 28 - training loss: 0.23630117571643552 - test accuracy: 67.80000000000001\n",
      "\tEpoch number: 29 - training loss: 0.2208763343636947 - test accuracy: 67.97\n",
      "\tEpoch number: 30 - training loss: 0.19411046012207064 - test accuracy: 67.67\n",
      "\tEpoch number: 31 - training loss: 0.17445028481809685 - test accuracy: 68.05\n",
      "\tEpoch number: 32 - training loss: 0.16377510503887216 - test accuracy: 68.2\n",
      "\tEpoch number: 33 - training loss: 0.1497054638345833 - test accuracy: 68.67999999999999\n",
      "\tEpoch number: 34 - training loss: 0.13896015549407287 - test accuracy: 67.82000000000001\n",
      "\tEpoch number: 35 - training loss: 0.12722247017695165 - test accuracy: 68.51\n",
      "\tEpoch number: 36 - training loss: 0.11694069164793205 - test accuracy: 68.84\n",
      "\tEpoch number: 37 - training loss: 0.10401719004449332 - test accuracy: 69.13\n",
      "\tEpoch number: 38 - training loss: 0.09435167393225538 - test accuracy: 69.0\n",
      "\tEpoch number: 39 - training loss: 0.09083321149391896 - test accuracy: 69.54\n",
      "\tEpoch number: 40 - training loss: 0.08212011306525191 - test accuracy: 68.92\n",
      "\tEpoch number: 41 - training loss: 0.08282277435826524 - test accuracy: 69.5\n",
      "\tEpoch number: 42 - training loss: 0.0778885785194919 - test accuracy: 69.44\n",
      "\tEpoch number: 43 - training loss: 0.07265613133759449 - test accuracy: 69.5\n",
      "\tEpoch number: 44 - training loss: 0.06440351921541002 - test accuracy: 69.74000000000001\n",
      "\tEpoch number: 45 - training loss: 0.06153201940648086 - test accuracy: 69.74000000000001\n",
      "\tEpoch number: 46 - training loss: 0.060319184227977565 - test accuracy: 70.04\n",
      "\tEpoch number: 47 - training loss: 0.058250628202162744 - test accuracy: 70.11\n",
      "\tEpoch number: 48 - training loss: 0.050611420817997146 - test accuracy: 70.09\n",
      "\tEpoch number: 49 - training loss: 0.04968371958760044 - test accuracy: 70.3\n",
      "\tEpoch number: 50 - training loss: 0.04795979269210945 - test accuracy: 70.17999999999999\n",
      "\tEpoch number: 51 - training loss: 0.04493782830322185 - test accuracy: 70.42\n",
      "\tEpoch number: 52 - training loss: 0.04725263632662461 - test accuracy: 69.83\n",
      "\tEpoch number: 53 - training loss: 0.0428207359464882 - test accuracy: 70.34\n",
      "\tEpoch number: 54 - training loss: 0.038729397937312456 - test accuracy: 70.08\n",
      "\tEpoch number: 55 - training loss: 0.03261399290064716 - test accuracy: 70.45\n",
      "\tEpoch number: 56 - training loss: 0.032014196047849976 - test accuracy: 70.53\n",
      "\tEpoch number: 57 - training loss: 0.03332821248799486 - test accuracy: 70.48\n",
      "\tEpoch number: 58 - training loss: 0.029675649526669547 - test accuracy: 70.6\n",
      "\tEpoch number: 59 - training loss: 0.029898763798615512 - test accuracy: 71.16\n",
      "\tEpoch number: 60 - training loss: 0.027861867466812854 - test accuracy: 70.95\n",
      "\tEpoch number: 61 - training loss: 0.027434206860678274 - test accuracy: 70.43\n",
      "\tEpoch number: 62 - training loss: 0.02280195742902701 - test accuracy: 70.91\n",
      "\tEpoch number: 63 - training loss: 0.022369731129492487 - test accuracy: 71.28\n",
      "\tEpoch number: 64 - training loss: 0.019988937174801328 - test accuracy: 71.97\n",
      "\tEpoch number: 65 - training loss: 0.018675740732027747 - test accuracy: 71.28999999999999\n",
      "\tEpoch number: 66 - training loss: 0.01769222871726736 - test accuracy: 71.69\n",
      "\tEpoch number: 67 - training loss: 0.01829985931248921 - test accuracy: 70.76\n",
      "\tEpoch number: 68 - training loss: 0.019692502248927456 - test accuracy: 71.59\n",
      "\tEpoch number: 69 - training loss: 0.019661711590826664 - test accuracy: 71.34\n",
      "\tEpoch number: 70 - training loss: 0.01944809413188711 - test accuracy: 71.3\n",
      "\tEpoch number: 71 - training loss: 0.01762796506342833 - test accuracy: 71.06\n",
      "\tEpoch number: 72 - training loss: 0.01770278548016725 - test accuracy: 71.06\n",
      "\tEpoch number: 73 - training loss: 0.016031163818467302 - test accuracy: 71.45\n",
      "\tEpoch number: 74 - training loss: 0.016875307528240145 - test accuracy: 71.39999999999999\n",
      "\tEpoch number: 75 - training loss: 0.01615690050022605 - test accuracy: 71.14\n",
      "\tEpoch number: 76 - training loss: 0.014586879050030428 - test accuracy: 71.55\n",
      "\tEpoch number: 77 - training loss: 0.013242114978411313 - test accuracy: 71.25\n",
      "\tEpoch number: 78 - training loss: 0.012676172649197261 - test accuracy: 71.64\n",
      "\tEpoch number: 79 - training loss: 0.011748654629720752 - test accuracy: 71.83\n",
      "\tEpoch number: 80 - training loss: 0.01153524470803759 - test accuracy: 72.04\n",
      "\tEpoch number: 81 - training loss: 0.010465863918232949 - test accuracy: 72.14\n",
      "\tEpoch number: 82 - training loss: 0.009583422352019174 - test accuracy: 71.52\n",
      "\tEpoch number: 83 - training loss: 0.008270035013127739 - test accuracy: 71.46000000000001\n",
      "\tEpoch number: 84 - training loss: 0.009468334977088683 - test accuracy: 71.5\n",
      "\tEpoch number: 85 - training loss: 0.008707030330929915 - test accuracy: 71.65\n",
      "\tEpoch number: 86 - training loss: 0.010405317101332233 - test accuracy: 71.89999999999999\n",
      "\tEpoch number: 87 - training loss: 0.010153338827592942 - test accuracy: 71.89999999999999\n",
      "\tEpoch number: 88 - training loss: 0.00965982140816005 - test accuracy: 72.05\n",
      "\tEpoch number: 89 - training loss: 0.00731363044837323 - test accuracy: 72.11999999999999\n",
      "\tEpoch number: 90 - training loss: 0.00789544923270307 - test accuracy: 72.33000000000001\n",
      "\tEpoch number: 91 - training loss: 0.00738039391253458 - test accuracy: 72.13000000000001\n",
      "\tEpoch number: 92 - training loss: 0.007517304433428723 - test accuracy: 71.97\n",
      "\tEpoch number: 93 - training loss: 0.007234435175995693 - test accuracy: 72.18\n",
      "\tEpoch number: 94 - training loss: 0.007871673717532697 - test accuracy: 72.04\n",
      "\tEpoch number: 95 - training loss: 0.00803124267474541 - test accuracy: 72.64\n",
      "\tEpoch number: 96 - training loss: 0.007788765064352538 - test accuracy: 72.3\n",
      "\tEpoch number: 97 - training loss: 0.006134784320736175 - test accuracy: 72.18\n",
      "\tEpoch number: 98 - training loss: 0.006443839964440183 - test accuracy: 72.15\n",
      "\tEpoch number: 99 - training loss: 0.005489579023188337 - test accuracy: 72.33000000000001\n",
      "\tEpoch number: 100 - training loss: 0.005874574252897326 - test accuracy: 72.56\n"
     ]
    }
   ],
   "source": [
    "# train ResidualBlock neural network\n",
    "\n",
    "resnet_model = Net18(ResidualBlock, [2, 2, 2, 2], 100).cuda()\n",
    "\n",
    "macs, params = get_model_complexity_info(resnet_model, (3, 32, 32), as_strings=True, print_per_layer_stat=True, verbose=True)\n",
    "print('{:<30}  {:<8}'.format('Computational complexity: ', macs))\n",
    "print('{:<30}  {:<8}'.format('Number of parameters: ', params))\n",
    "print(\"\\n\")\n",
    "1\n",
    "res_train_loss, res_test_acc = fit(resnet_model, train_loader, test_loader, NUM_EPOCH, LEARNING_RATE, CRITERION)"
   ]
  },
  {
   "cell_type": "code",
   "execution_count": 25,
   "metadata": {
    "colab": {
     "base_uri": "https://localhost:8080/",
     "height": 737
    },
    "colab_type": "code",
    "executionInfo": {
     "elapsed": 1380,
     "status": "ok",
     "timestamp": 1588323116040,
     "user": {
      "displayName": "Victor Cappa",
      "photoUrl": "",
      "userId": "13221236169392054040"
     },
     "user_tz": -540
    },
    "id": "wEdY7mWJSsvV",
    "outputId": "686bda1d-7eb4-4e1c-b82f-79cf10c9895b"
   },
   "outputs": [
    {
     "data": {
      "image/png": "[encoded data removed]",
      "text/plain": [
       "<Figure size 720x360 with 1 Axes>"
      ]
     },
     "metadata": {
      "needs_background": "light",
      "tags": []
     },
     "output_type": "display_data"
    },
    {
     "data": {
      "image/png": "[encoded data removed]",
      "text/plain": [
       "<Figure size 720x360 with 1 Axes>"
      ]
     },
     "metadata": {
      "needs_background": "light",
      "tags": []
     },
     "output_type": "display_data"
    },
    {
     "name": "stdout",
     "output_type": "stream",
     "text": [
      "Training loss: [3.8723239618189194, 3.2092640973113076, 2.741701038902068, 2.3666592537594573, 2.0762345476833453, 1.8570059547034066, 1.6843307554874274, 1.5453131583035755, 1.4198471109580506, 1.3202160325501582, 1.222897370453076, 1.1458643022400643, 1.0684382148715845, 1.0061335167311647, 0.9458869206326087, 0.8819745408604517, 0.8290951125457159, 0.7724769005690084, 0.7250180018832312, 0.6799500049532526, 0.6396424011196322, 0.595298510073396, 0.5564989391190317, 0.5215700610214488, 0.4830033913292848, 0.4570018095738443, 0.4233376506877982, 0.38726361271213083, 0.36146732333980863, 0.33312310930103295, 0.3203836419926885, 0.28389189329446124, 0.2628844693646102, 0.2583754609536637, 0.23785676471793743, 0.21475490030196623, 0.20218140237471638, 0.19111748003517576, 0.17130510930133902, 0.1579445044479102, 0.15595374911871102, 0.14048834902513058, 0.1289767482320366, 0.12173675280778914, 0.1176538943882336, 0.10495671885245292, 0.09519147647120764, 0.0933810877030158, 0.0889454034283338, 0.08365600876262426, 0.07407819611661116, 0.07605488931812594, 0.07124812157867509, 0.07001121456513319, 0.06793499037699627, 0.0652995322690443, 0.059575123712420464, 0.05517750256278021, 0.06144556591806509, 0.05172404011382776, 0.04944202973676459, 0.050026139363532174, 0.04277399305225638, 0.04114210266915276, 0.03879060963992877, 0.037108806659803366, 0.03948352302965301, 0.0392117525458031, 0.03734558249068687, 0.0385509445939375, 0.034192045328809935, 0.030726034480058933, 0.029673371435431264, 0.02917295359932553, 0.02805022415145279, 0.02860093969956536, 0.023568856501308702, 0.021613900637840067, 0.02198742449169269, 0.021007236845962837, 0.02342386257446483, 0.02147740887387482, 0.01753999766372049, 0.020673977492181847, 0.017088062408596963, 0.017675971483711698, 0.015639631087174807, 0.018224468816767262, 0.01783218061851571, 0.016740730270514707, 0.015066914760586246, 0.01420281242455363, 0.016259051687882074, 0.017908961719373607, 0.015736295472439904, 0.014029200262654468, 0.013086978601568076, 0.012152753229660298, 0.012725146221773474, 0.013801127660285939]\n",
      "Test accuracy: [15.45, 26.27, 30.19, 34.28, 40.8, 44.81, 50.080000000000005, 50.33, 52.980000000000004, 56.13, 55.50000000000001, 57.58, 56.44, 58.77, 60.86, 61.59, 62.72, 63.29, 62.519999999999996, 63.85999999999999, 64.14, 64.1, 65.64999999999999, 64.86, 63.77, 65.22, 64.58, 65.28, 66.01, 65.68, 66.5, 66.75, 66.02, 65.8, 67.2, 66.66, 66.82000000000001, 67.82000000000001, 67.78999999999999, 67.71000000000001, 67.72, 68.51, 68.4, 68.23, 68.35, 68.58, 68.58, 68.02, 67.36999999999999, 68.66, 68.42, 67.78999999999999, 69.13, 68.61, 68.54, 68.99, 69.04, 69.53, 69.41000000000001, 69.0, 68.76, 68.82000000000001, 69.21000000000001, 69.45, 69.98, 69.77, 69.12, 69.57, 69.39999999999999, 69.89, 69.87, 70.13000000000001, 70.11, 70.21, 69.62, 70.30999999999999, 69.67, 70.17999999999999, 70.19, 69.86, 69.95, 70.30999999999999, 70.56, 70.12, 70.23, 69.92, 71.1, 70.22, 70.77, 70.85000000000001, 70.67999999999999, 70.45, 70.03, 70.1, 70.21, 71.1, 70.76, 70.91, 70.62, 70.55]\n"
     ]
    }
   ],
   "source": [
    "# plot train loss of PlainBlock and ResidualBlock neural network\n",
    "fig = plt.figure(figsize=(10, 5))\n",
    "plt.title(\"Training loss plot of 18-layer PlainBlock and ResidualBlock CNN\")\n",
    "plt.xlabel(\"epoch\")\n",
    "plt.ylabel(\"train loss\")\n",
    "plt.grid()\n",
    "plt.plot(list(range(1,NUM_EPOCH+1)), train_loss, label=\"train loss PlainBlock\")\n",
    "plt.plot(list(range(1,NUM_EPOCH+1)), res_train_loss, label=\"train loss ResidualBlock\")\n",
    "plt.legend()\n",
    "plt.show()\n",
    "\n",
    "# plot test accuracy of PlainBlock and ResidualBlock neural network\n",
    "fig = plt.figure(figsize=(10, 5))\n",
    "plt.title(\"Test accuracy plot of 18-layer PlainBlock and ResidualBlock CNN\")\n",
    "plt.xlabel(\"epoch\")\n",
    "plt.ylabel(\"test accuracy\")\n",
    "plt.grid()\n",
    "plt.plot(list(range(1,NUM_EPOCH+1)), test_acc, label=\"test accuracy PlainBlock\")\n",
    "plt.plot(list(range(1,NUM_EPOCH+1)), res_test_acc, label=\"test accuracy ResidualBlock\")\n",
    "plt.legend()\n",
    "plt.show()\n",
    "\n",
    "print(\"Training loss: \" + str(train_loss))\n",
    "print(\"Test accuracy: \" + str(test_acc))"
   ]
  },
  {
   "cell_type": "markdown",
   "metadata": {
    "colab_type": "text",
    "id": "r-EI4LTG94Wd"
   },
   "source": [
    "## Problem 3"
   ]
  },
  {
   "cell_type": "code",
   "execution_count": 31,
   "metadata": {
    "colab": {
     "base_uri": "https://localhost:8080/",
     "height": 1000
    },
    "colab_type": "code",
    "executionInfo": {
     "elapsed": 4088963,
     "status": "ok",
     "timestamp": 1588328037657,
     "user": {
      "displayName": "Victor Cappa",
      "photoUrl": "",
      "userId": "13221236169392054040"
     },
     "user_tz": -540
    },
    "id": "HYpTLO3_mWXN",
    "outputId": "b7a56b4e-3741-495d-f435-c2fca7156b0d"
   },
   "outputs": [
    {
     "name": "stdout",
     "output_type": "stream",
     "text": [
      "Warning: module MobileBlock is treated as a zero-op.\n",
      "Warning: module Net18 is treated as a zero-op.\n",
      "Net18(\n",
      "  1.326 M, 100.000% Params, 0.071 GMac, 100.000% MACs, \n",
      "  (conv0): Conv2d(0.002 M, 0.130% Params, 0.002 GMac, 2.499% MACs, 3, 64, kernel_size=(3, 3), stride=(1, 1), padding=(1, 1), bias=False)\n",
      "  (bn0): BatchNorm2d(0.0 M, 0.010% Params, 0.0 GMac, 0.185% MACs, 64, eps=1e-05, momentum=0.1, affine=True, track_running_stats=True)\n",
      "  (relu): ReLU(0.0 M, 0.000% Params, 0.0 GMac, 0.093% MACs, inplace=True)\n",
      "  (layer1): Sequential(\n",
      "    0.02 M, 1.525% Params, 0.021 GMac, 29.984% MACs, \n",
      "    (0): MobileBlock(\n",
      "      0.01 M, 0.763% Params, 0.011 GMac, 14.992% MACs, \n",
      "      (layer0): Sequential(\n",
      "        0.005 M, 0.381% Params, 0.005 GMac, 7.496% MACs, \n",
      "        (0): Conv2d(0.001 M, 0.048% Params, 0.001 GMac, 0.925% MACs, 64, 64, kernel_size=(3, 3), stride=(1, 1), padding=(1, 1), groups=64)\n",
      "        (1): BatchNorm2d(0.0 M, 0.010% Params, 0.0 GMac, 0.185% MACs, 64, eps=1e-05, momentum=0.1, affine=True, track_running_stats=True)\n",
      "        (2): ReLU(0.0 M, 0.000% Params, 0.0 GMac, 0.093% MACs, )\n",
      "        (3): Conv2d(0.004 M, 0.314% Params, 0.004 GMac, 6.015% MACs, 64, 64, kernel_size=(1, 1), stride=(1, 1))\n",
      "        (4): BatchNorm2d(0.0 M, 0.010% Params, 0.0 GMac, 0.185% MACs, 64, eps=1e-05, momentum=0.1, affine=True, track_running_stats=True)\n",
      "        (5): ReLU(0.0 M, 0.000% Params, 0.0 GMac, 0.093% MACs, )\n",
      "      )\n",
      "      (layer1): Sequential(\n",
      "        0.005 M, 0.381% Params, 0.005 GMac, 7.496% MACs, \n",
      "        (0): Conv2d(0.001 M, 0.048% Params, 0.001 GMac, 0.925% MACs, 64, 64, kernel_size=(3, 3), stride=(1, 1), padding=(1, 1), groups=64)\n",
      "        (1): BatchNorm2d(0.0 M, 0.010% Params, 0.0 GMac, 0.185% MACs, 64, eps=1e-05, momentum=0.1, affine=True, track_running_stats=True)\n",
      "        (2): ReLU(0.0 M, 0.000% Params, 0.0 GMac, 0.093% MACs, )\n",
      "        (3): Conv2d(0.004 M, 0.314% Params, 0.004 GMac, 6.015% MACs, 64, 64, kernel_size=(1, 1), stride=(1, 1))\n",
      "        (4): BatchNorm2d(0.0 M, 0.010% Params, 0.0 GMac, 0.185% MACs, 64, eps=1e-05, momentum=0.1, affine=True, track_running_stats=True)\n",
      "        (5): ReLU(0.0 M, 0.000% Params, 0.0 GMac, 0.093% MACs, )\n",
      "      )\n",
      "    )\n",
      "    (1): MobileBlock(\n",
      "      0.01 M, 0.763% Params, 0.011 GMac, 14.992% MACs, \n",
      "      (layer0): Sequential(\n",
      "        0.005 M, 0.381% Params, 0.005 GMac, 7.496% MACs, \n",
      "        (0): Conv2d(0.001 M, 0.048% Params, 0.001 GMac, 0.925% MACs, 64, 64, kernel_size=(3, 3), stride=(1, 1), padding=(1, 1), groups=64)\n",
      "        (1): BatchNorm2d(0.0 M, 0.010% Params, 0.0 GMac, 0.185% MACs, 64, eps=1e-05, momentum=0.1, affine=True, track_running_stats=True)\n",
      "        (2): ReLU(0.0 M, 0.000% Params, 0.0 GMac, 0.093% MACs, )\n",
      "        (3): Conv2d(0.004 M, 0.314% Params, 0.004 GMac, 6.015% MACs, 64, 64, kernel_size=(1, 1), stride=(1, 1))\n",
      "        (4): BatchNorm2d(0.0 M, 0.010% Params, 0.0 GMac, 0.185% MACs, 64, eps=1e-05, momentum=0.1, affine=True, track_running_stats=True)\n",
      "        (5): ReLU(0.0 M, 0.000% Params, 0.0 GMac, 0.093% MACs, )\n",
      "      )\n",
      "      (layer1): Sequential(\n",
      "        0.005 M, 0.381% Params, 0.005 GMac, 7.496% MACs, \n",
      "        (0): Conv2d(0.001 M, 0.048% Params, 0.001 GMac, 0.925% MACs, 64, 64, kernel_size=(3, 3), stride=(1, 1), padding=(1, 1), groups=64)\n",
      "        (1): BatchNorm2d(0.0 M, 0.010% Params, 0.0 GMac, 0.185% MACs, 64, eps=1e-05, momentum=0.1, affine=True, track_running_stats=True)\n",
      "        (2): ReLU(0.0 M, 0.000% Params, 0.0 GMac, 0.093% MACs, )\n",
      "        (3): Conv2d(0.004 M, 0.314% Params, 0.004 GMac, 6.015% MACs, 64, 64, kernel_size=(1, 1), stride=(1, 1))\n",
      "        (4): BatchNorm2d(0.0 M, 0.010% Params, 0.0 GMac, 0.185% MACs, 64, eps=1e-05, momentum=0.1, affine=True, track_running_stats=True)\n",
      "        (5): ReLU(0.0 M, 0.000% Params, 0.0 GMac, 0.093% MACs, )\n",
      "      )\n",
      "    )\n",
      "  )\n",
      "  (layer2): Sequential(\n",
      "    0.064 M, 4.846% Params, 0.017 GMac, 23.575% MACs, \n",
      "    (0): MobileBlock(\n",
      "      0.028 M, 2.085% Params, 0.007 GMac, 10.156% MACs, \n",
      "      (layer0): Sequential(\n",
      "        0.009 M, 0.705% Params, 0.002 GMac, 3.447% MACs, \n",
      "        (0): Conv2d(0.001 M, 0.048% Params, 0.0 GMac, 0.231% MACs, 64, 64, kernel_size=(3, 3), stride=(2, 2), padding=(1, 1), groups=64)\n",
      "        (1): BatchNorm2d(0.0 M, 0.010% Params, 0.0 GMac, 0.046% MACs, 64, eps=1e-05, momentum=0.1, affine=True, track_running_stats=True)\n",
      "        (2): ReLU(0.0 M, 0.000% Params, 0.0 GMac, 0.023% MACs, )\n",
      "        (3): Conv2d(0.008 M, 0.627% Params, 0.002 GMac, 3.008% MACs, 64, 128, kernel_size=(1, 1), stride=(1, 1))\n",
      "        (4): BatchNorm2d(0.0 M, 0.019% Params, 0.0 GMac, 0.093% MACs, 128, eps=1e-05, momentum=0.1, affine=True, track_running_stats=True)\n",
      "        (5): ReLU(0.0 M, 0.000% Params, 0.0 GMac, 0.046% MACs, )\n",
      "      )\n",
      "      (layer1): Sequential(\n",
      "        0.018 M, 1.380% Params, 0.005 GMac, 6.709% MACs, \n",
      "        (0): Conv2d(0.001 M, 0.097% Params, 0.0 GMac, 0.463% MACs, 128, 128, kernel_size=(3, 3), stride=(1, 1), padding=(1, 1), groups=128)\n",
      "        (1): BatchNorm2d(0.0 M, 0.019% Params, 0.0 GMac, 0.093% MACs, 128, eps=1e-05, momentum=0.1, affine=True, track_running_stats=True)\n",
      "        (2): ReLU(0.0 M, 0.000% Params, 0.0 GMac, 0.046% MACs, )\n",
      "        (3): Conv2d(0.017 M, 1.245% Params, 0.004 GMac, 5.969% MACs, 128, 128, kernel_size=(1, 1), stride=(1, 1))\n",
      "        (4): BatchNorm2d(0.0 M, 0.019% Params, 0.0 GMac, 0.093% MACs, 128, eps=1e-05, momentum=0.1, affine=True, track_running_stats=True)\n",
      "        (5): ReLU(0.0 M, 0.000% Params, 0.0 GMac, 0.046% MACs, )\n",
      "      )\n",
      "    )\n",
      "    (1): MobileBlock(\n",
      "      0.037 M, 2.761% Params, 0.01 GMac, 13.419% MACs, \n",
      "      (layer0): Sequential(\n",
      "        0.018 M, 1.380% Params, 0.005 GMac, 6.709% MACs, \n",
      "        (0): Conv2d(0.001 M, 0.097% Params, 0.0 GMac, 0.463% MACs, 128, 128, kernel_size=(3, 3), stride=(1, 1), padding=(1, 1), groups=128)\n",
      "        (1): BatchNorm2d(0.0 M, 0.019% Params, 0.0 GMac, 0.093% MACs, 128, eps=1e-05, momentum=0.1, affine=True, track_running_stats=True)\n",
      "        (2): ReLU(0.0 M, 0.000% Params, 0.0 GMac, 0.046% MACs, )\n",
      "        (3): Conv2d(0.017 M, 1.245% Params, 0.004 GMac, 5.969% MACs, 128, 128, kernel_size=(1, 1), stride=(1, 1))\n",
      "        (4): BatchNorm2d(0.0 M, 0.019% Params, 0.0 GMac, 0.093% MACs, 128, eps=1e-05, momentum=0.1, affine=True, track_running_stats=True)\n",
      "        (5): ReLU(0.0 M, 0.000% Params, 0.0 GMac, 0.046% MACs, )\n",
      "      )\n",
      "      (layer1): Sequential(\n",
      "        0.018 M, 1.380% Params, 0.005 GMac, 6.709% MACs, \n",
      "        (0): Conv2d(0.001 M, 0.097% Params, 0.0 GMac, 0.463% MACs, 128, 128, kernel_size=(3, 3), stride=(1, 1), padding=(1, 1), groups=128)\n",
      "        (1): BatchNorm2d(0.0 M, 0.019% Params, 0.0 GMac, 0.093% MACs, 128, eps=1e-05, momentum=0.1, affine=True, track_running_stats=True)\n",
      "        (2): ReLU(0.0 M, 0.000% Params, 0.0 GMac, 0.046% MACs, )\n",
      "        (3): Conv2d(0.017 M, 1.245% Params, 0.004 GMac, 5.969% MACs, 128, 128, kernel_size=(1, 1), stride=(1, 1))\n",
      "        (4): BatchNorm2d(0.0 M, 0.019% Params, 0.0 GMac, 0.093% MACs, 128, eps=1e-05, momentum=0.1, affine=True, track_running_stats=True)\n",
      "        (5): ReLU(0.0 M, 0.000% Params, 0.0 GMac, 0.046% MACs, )\n",
      "      )\n",
      "    )\n",
      "  )\n",
      "  (layer3): Sequential(\n",
      "    0.243 M, 18.341% Params, 0.016 GMac, 22.152% MACs, \n",
      "    (0): MobileBlock(\n",
      "      0.104 M, 7.877% Params, 0.007 GMac, 9.520% MACs, \n",
      "      (layer0): Sequential(\n",
      "        0.035 M, 2.645% Params, 0.002 GMac, 3.204% MACs, \n",
      "        (0): Conv2d(0.001 M, 0.097% Params, 0.0 GMac, 0.116% MACs, 128, 128, kernel_size=(3, 3), stride=(2, 2), padding=(1, 1), groups=128)\n",
      "        (1): BatchNorm2d(0.0 M, 0.019% Params, 0.0 GMac, 0.023% MACs, 128, eps=1e-05, momentum=0.1, affine=True, track_running_stats=True)\n",
      "        (2): ReLU(0.0 M, 0.000% Params, 0.0 GMac, 0.012% MACs, )\n",
      "        (3): Conv2d(0.033 M, 2.491% Params, 0.002 GMac, 2.984% MACs, 128, 256, kernel_size=(1, 1), stride=(1, 1))\n",
      "        (4): BatchNorm2d(0.001 M, 0.039% Params, 0.0 GMac, 0.046% MACs, 256, eps=1e-05, momentum=0.1, affine=True, track_running_stats=True)\n",
      "        (5): ReLU(0.0 M, 0.000% Params, 0.0 GMac, 0.023% MACs, )\n",
      "      )\n",
      "      (layer1): Sequential(\n",
      "        0.069 M, 5.232% Params, 0.004 GMac, 6.316% MACs, \n",
      "        (0): Conv2d(0.003 M, 0.193% Params, 0.0 GMac, 0.231% MACs, 256, 256, kernel_size=(3, 3), stride=(1, 1), padding=(1, 1), groups=256)\n",
      "        (1): BatchNorm2d(0.001 M, 0.039% Params, 0.0 GMac, 0.046% MACs, 256, eps=1e-05, momentum=0.1, affine=True, track_running_stats=True)\n",
      "        (2): ReLU(0.0 M, 0.000% Params, 0.0 GMac, 0.023% MACs, )\n",
      "        (3): Conv2d(0.066 M, 4.962% Params, 0.004 GMac, 5.946% MACs, 256, 256, kernel_size=(1, 1), stride=(1, 1))\n",
      "        (4): BatchNorm2d(0.001 M, 0.039% Params, 0.0 GMac, 0.046% MACs, 256, eps=1e-05, momentum=0.1, affine=True, track_running_stats=True)\n",
      "        (5): ReLU(0.0 M, 0.000% Params, 0.0 GMac, 0.023% MACs, )\n",
      "      )\n",
      "    )\n",
      "    (1): MobileBlock(\n",
      "      0.139 M, 10.464% Params, 0.009 GMac, 12.632% MACs, \n",
      "      (layer0): Sequential(\n",
      "        0.069 M, 5.232% Params, 0.004 GMac, 6.316% MACs, \n",
      "        (0): Conv2d(0.003 M, 0.193% Params, 0.0 GMac, 0.231% MACs, 256, 256, kernel_size=(3, 3), stride=(1, 1), padding=(1, 1), groups=256)\n",
      "        (1): BatchNorm2d(0.001 M, 0.039% Params, 0.0 GMac, 0.046% MACs, 256, eps=1e-05, momentum=0.1, affine=True, track_running_stats=True)\n",
      "        (2): ReLU(0.0 M, 0.000% Params, 0.0 GMac, 0.023% MACs, )\n",
      "        (3): Conv2d(0.066 M, 4.962% Params, 0.004 GMac, 5.946% MACs, 256, 256, kernel_size=(1, 1), stride=(1, 1))\n",
      "        (4): BatchNorm2d(0.001 M, 0.039% Params, 0.0 GMac, 0.046% MACs, 256, eps=1e-05, momentum=0.1, affine=True, track_running_stats=True)\n",
      "        (5): ReLU(0.0 M, 0.000% Params, 0.0 GMac, 0.023% MACs, )\n",
      "      )\n",
      "      (layer1): Sequential(\n",
      "        0.069 M, 5.232% Params, 0.004 GMac, 6.316% MACs, \n",
      "        (0): Conv2d(0.003 M, 0.193% Params, 0.0 GMac, 0.231% MACs, 256, 256, kernel_size=(3, 3), stride=(1, 1), padding=(1, 1), groups=256)\n",
      "        (1): BatchNorm2d(0.001 M, 0.039% Params, 0.0 GMac, 0.046% MACs, 256, eps=1e-05, momentum=0.1, affine=True, track_running_stats=True)\n",
      "        (2): ReLU(0.0 M, 0.000% Params, 0.0 GMac, 0.023% MACs, )\n",
      "        (3): Conv2d(0.066 M, 4.962% Params, 0.004 GMac, 5.946% MACs, 256, 256, kernel_size=(1, 1), stride=(1, 1))\n",
      "        (4): BatchNorm2d(0.001 M, 0.039% Params, 0.0 GMac, 0.046% MACs, 256, eps=1e-05, momentum=0.1, affine=True, track_running_stats=True)\n",
      "        (5): ReLU(0.0 M, 0.000% Params, 0.0 GMac, 0.023% MACs, )\n",
      "      )\n",
      "    )\n",
      "  )\n",
      "  (layer4): Sequential(\n",
      "    0.945 M, 71.279% Params, 0.015 GMac, 21.441% MACs, \n",
      "    (0): MobileBlock(\n",
      "      0.406 M, 30.581% Params, 0.007 GMac, 9.202% MACs, \n",
      "      (layer0): Sequential(\n",
      "        0.136 M, 10.232% Params, 0.002 GMac, 3.083% MACs, \n",
      "        (0): Conv2d(0.003 M, 0.193% Params, 0.0 GMac, 0.058% MACs, 256, 256, kernel_size=(3, 3), stride=(2, 2), padding=(1, 1), groups=256)\n",
      "        (1): BatchNorm2d(0.001 M, 0.039% Params, 0.0 GMac, 0.012% MACs, 256, eps=1e-05, momentum=0.1, affine=True, track_running_stats=True)\n",
      "        (2): ReLU(0.0 M, 0.000% Params, 0.0 GMac, 0.006% MACs, )\n",
      "        (3): Conv2d(0.132 M, 9.923% Params, 0.002 GMac, 2.973% MACs, 256, 512, kernel_size=(1, 1), stride=(1, 1))\n",
      "        (4): BatchNorm2d(0.001 M, 0.077% Params, 0.0 GMac, 0.023% MACs, 512, eps=1e-05, momentum=0.1, affine=True, track_running_stats=True)\n",
      "        (5): ReLU(0.0 M, 0.000% Params, 0.0 GMac, 0.012% MACs, )\n",
      "      )\n",
      "      (layer1): Sequential(\n",
      "        0.27 M, 20.349% Params, 0.004 GMac, 6.119% MACs, \n",
      "        (0): Conv2d(0.005 M, 0.386% Params, 0.0 GMac, 0.116% MACs, 512, 512, kernel_size=(3, 3), stride=(1, 1), padding=(1, 1), groups=512)\n",
      "        (1): BatchNorm2d(0.001 M, 0.077% Params, 0.0 GMac, 0.023% MACs, 512, eps=1e-05, momentum=0.1, affine=True, track_running_stats=True)\n",
      "        (2): ReLU(0.0 M, 0.000% Params, 0.0 GMac, 0.012% MACs, )\n",
      "        (3): Conv2d(0.263 M, 19.808% Params, 0.004 GMac, 5.934% MACs, 512, 512, kernel_size=(1, 1), stride=(1, 1))\n",
      "        (4): BatchNorm2d(0.001 M, 0.077% Params, 0.0 GMac, 0.023% MACs, 512, eps=1e-05, momentum=0.1, affine=True, track_running_stats=True)\n",
      "        (5): ReLU(0.0 M, 0.000% Params, 0.0 GMac, 0.012% MACs, )\n",
      "      )\n",
      "    )\n",
      "    (1): MobileBlock(\n",
      "      0.54 M, 40.698% Params, 0.009 GMac, 12.239% MACs, \n",
      "      (layer0): Sequential(\n",
      "        0.27 M, 20.349% Params, 0.004 GMac, 6.119% MACs, \n",
      "        (0): Conv2d(0.005 M, 0.386% Params, 0.0 GMac, 0.116% MACs, 512, 512, kernel_size=(3, 3), stride=(1, 1), padding=(1, 1), groups=512)\n",
      "        (1): BatchNorm2d(0.001 M, 0.077% Params, 0.0 GMac, 0.023% MACs, 512, eps=1e-05, momentum=0.1, affine=True, track_running_stats=True)\n",
      "        (2): ReLU(0.0 M, 0.000% Params, 0.0 GMac, 0.012% MACs, )\n",
      "        (3): Conv2d(0.263 M, 19.808% Params, 0.004 GMac, 5.934% MACs, 512, 512, kernel_size=(1, 1), stride=(1, 1))\n",
      "        (4): BatchNorm2d(0.001 M, 0.077% Params, 0.0 GMac, 0.023% MACs, 512, eps=1e-05, momentum=0.1, affine=True, track_running_stats=True)\n",
      "        (5): ReLU(0.0 M, 0.000% Params, 0.0 GMac, 0.012% MACs, )\n",
      "      )\n",
      "      (layer1): Sequential(\n",
      "        0.27 M, 20.349% Params, 0.004 GMac, 6.119% MACs, \n",
      "        (0): Conv2d(0.005 M, 0.386% Params, 0.0 GMac, 0.116% MACs, 512, 512, kernel_size=(3, 3), stride=(1, 1), padding=(1, 1), groups=512)\n",
      "        (1): BatchNorm2d(0.001 M, 0.077% Params, 0.0 GMac, 0.023% MACs, 512, eps=1e-05, momentum=0.1, affine=True, track_running_stats=True)\n",
      "        (2): ReLU(0.0 M, 0.000% Params, 0.0 GMac, 0.012% MACs, )\n",
      "        (3): Conv2d(0.263 M, 19.808% Params, 0.004 GMac, 5.934% MACs, 512, 512, kernel_size=(1, 1), stride=(1, 1))\n",
      "        (4): BatchNorm2d(0.001 M, 0.077% Params, 0.0 GMac, 0.023% MACs, 512, eps=1e-05, momentum=0.1, affine=True, track_running_stats=True)\n",
      "        (5): ReLU(0.0 M, 0.000% Params, 0.0 GMac, 0.012% MACs, )\n",
      "      )\n",
      "    )\n",
      "  )\n",
      "  (linear): Linear(0.051 M, 3.869% Params, 0.0 GMac, 0.072% MACs, in_features=512, out_features=100, bias=True)\n",
      ")\n",
      "Computational complexity:       0.07 GMac\n",
      "Number of parameters:           1.33 M  \n",
      "\n",
      "\n",
      "\tEpoch number: 1 - training loss: 4.385645485899943 - test accuracy: 4.99\n",
      "\tEpoch number: 2 - training loss: 4.001918498817307 - test accuracy: 10.27\n",
      "\tEpoch number: 3 - training loss: 3.7350202448227825 - test accuracy: 14.299999999999999\n",
      "\tEpoch number: 4 - training loss: 3.4965893575907363 - test accuracy: 18.26\n",
      "\tEpoch number: 5 - training loss: 3.284799321533164 - test accuracy: 21.65\n",
      "\tEpoch number: 6 - training loss: 3.0851357288067907 - test accuracy: 25.25\n",
      "\tEpoch number: 7 - training loss: 2.9216192524756313 - test accuracy: 28.34\n",
      "\tEpoch number: 8 - training loss: 2.757676927025056 - test accuracy: 31.630000000000003\n",
      "\tEpoch number: 9 - training loss: 2.6060215347563216 - test accuracy: 34.65\n",
      "\tEpoch number: 10 - training loss: 2.4712934469627905 - test accuracy: 36.26\n",
      "\tEpoch number: 11 - training loss: 2.34781214495754 - test accuracy: 38.56\n",
      "\tEpoch number: 12 - training loss: 2.2242593548791794 - test accuracy: 39.94\n",
      "\tEpoch number: 13 - training loss: 2.126443388516946 - test accuracy: 42.980000000000004\n",
      "\tEpoch number: 14 - training loss: 2.0267534460253116 - test accuracy: 43.3\n",
      "\tEpoch number: 15 - training loss: 1.9261235245658308 - test accuracy: 45.12\n",
      "\tEpoch number: 16 - training loss: 1.8475017108575766 - test accuracy: 45.57\n",
      "\tEpoch number: 17 - training loss: 1.7726311781217374 - test accuracy: 47.46\n",
      "\tEpoch number: 18 - training loss: 1.6972302826469208 - test accuracy: 48.97\n",
      "\tEpoch number: 19 - training loss: 1.6347861207659593 - test accuracy: 49.71\n",
      "\tEpoch number: 20 - training loss: 1.57244519230045 - test accuracy: 51.129999999999995\n",
      "\tEpoch number: 21 - training loss: 1.5059745918454417 - test accuracy: 52.129999999999995\n",
      "\tEpoch number: 22 - training loss: 1.4487678035140952 - test accuracy: 52.59\n",
      "\tEpoch number: 23 - training loss: 1.3917249816153057 - test accuracy: 53.32\n",
      "\tEpoch number: 24 - training loss: 1.3479056846150352 - test accuracy: 54.04\n",
      "\tEpoch number: 25 - training loss: 1.2980150086495577 - test accuracy: 54.58\n",
      "\tEpoch number: 26 - training loss: 1.2543292499869072 - test accuracy: 55.7\n",
      "\tEpoch number: 27 - training loss: 1.2018067193458148 - test accuracy: 54.790000000000006\n",
      "\tEpoch number: 28 - training loss: 1.1655924259244328 - test accuracy: 55.65\n",
      "\tEpoch number: 29 - training loss: 1.1228845901501454 - test accuracy: 55.84\n",
      "\tEpoch number: 30 - training loss: 1.0909381019489846 - test accuracy: 56.16\n",
      "\tEpoch number: 31 - training loss: 1.0424441652529686 - test accuracy: 57.26\n",
      "\tEpoch number: 32 - training loss: 1.0001303814256284 - test accuracy: 57.269999999999996\n",
      "\tEpoch number: 33 - training loss: 0.969313758108622 - test accuracy: 57.379999999999995\n",
      "\tEpoch number: 34 - training loss: 0.9343361921627503 - test accuracy: 57.440000000000005\n",
      "\tEpoch number: 35 - training loss: 0.9051501394232826 - test accuracy: 58.53\n",
      "\tEpoch number: 36 - training loss: 0.8685054419290684 - test accuracy: 58.489999999999995\n",
      "\tEpoch number: 37 - training loss: 0.8366904237386211 - test accuracy: 57.699999999999996\n",
      "\tEpoch number: 38 - training loss: 0.806194850550893 - test accuracy: 58.13\n",
      "\tEpoch number: 39 - training loss: 0.7706508409336704 - test accuracy: 58.86\n",
      "\tEpoch number: 40 - training loss: 0.7377766952337816 - test accuracy: 58.940000000000005\n",
      "\tEpoch number: 41 - training loss: 0.7142195623091725 - test accuracy: 58.830000000000005\n",
      "\tEpoch number: 42 - training loss: 0.6983237197179624 - test accuracy: 58.02\n",
      "\tEpoch number: 43 - training loss: 0.6691142656766546 - test accuracy: 58.440000000000005\n",
      "\tEpoch number: 44 - training loss: 0.6377159222922362 - test accuracy: 58.86\n",
      "\tEpoch number: 45 - training loss: 0.6209754844760651 - test accuracy: 58.52\n",
      "\tEpoch number: 46 - training loss: 0.5962893777643629 - test accuracy: 59.040000000000006\n",
      "\tEpoch number: 47 - training loss: 0.5692212795814895 - test accuracy: 59.17\n",
      "\tEpoch number: 48 - training loss: 0.5472776770896619 - test accuracy: 58.919999999999995\n",
      "\tEpoch number: 49 - training loss: 0.5314728664162823 - test accuracy: 59.260000000000005\n",
      "\tEpoch number: 50 - training loss: 0.5046116753155009 - test accuracy: 59.11\n",
      "\tEpoch number: 51 - training loss: 0.4867507240656392 - test accuracy: 58.67\n",
      "\tEpoch number: 52 - training loss: 0.46973536798106436 - test accuracy: 59.150000000000006\n",
      "\tEpoch number: 53 - training loss: 0.4459771992605361 - test accuracy: 59.79\n",
      "\tEpoch number: 54 - training loss: 0.43445504092804305 - test accuracy: 58.46\n",
      "\tEpoch number: 55 - training loss: 0.4109812990936172 - test accuracy: 59.45\n",
      "\tEpoch number: 56 - training loss: 0.39609113731957457 - test accuracy: 60.050000000000004\n",
      "\tEpoch number: 57 - training loss: 0.38497555614127527 - test accuracy: 58.879999999999995\n",
      "\tEpoch number: 58 - training loss: 0.3685375432605329 - test accuracy: 59.940000000000005\n",
      "\tEpoch number: 59 - training loss: 0.3516098818434474 - test accuracy: 59.089999999999996\n",
      "\tEpoch number: 60 - training loss: 0.33905169809870705 - test accuracy: 60.209999999999994\n",
      "\tEpoch number: 61 - training loss: 0.32824338278959475 - test accuracy: 59.67\n",
      "\tEpoch number: 62 - training loss: 0.3157089782873993 - test accuracy: 59.77\n",
      "\tEpoch number: 63 - training loss: 0.3011565530086722 - test accuracy: 60.029999999999994\n",
      "\tEpoch number: 64 - training loss: 0.2924582812068103 - test accuracy: 60.14000000000001\n",
      "\tEpoch number: 65 - training loss: 0.27944301853856773 - test accuracy: 60.23\n",
      "\tEpoch number: 66 - training loss: 0.2700322578325296 - test accuracy: 60.440000000000005\n",
      "\tEpoch number: 67 - training loss: 0.26498157311888304 - test accuracy: 59.760000000000005\n",
      "\tEpoch number: 68 - training loss: 0.23967869293964122 - test accuracy: 60.72\n",
      "\tEpoch number: 69 - training loss: 0.2422494359333497 - test accuracy: 60.57\n",
      "\tEpoch number: 70 - training loss: 0.23982702071785622 - test accuracy: 59.62\n",
      "\tEpoch number: 71 - training loss: 0.22982305297842415 - test accuracy: 60.38\n",
      "\tEpoch number: 72 - training loss: 0.22175319182217273 - test accuracy: 60.34\n",
      "\tEpoch number: 73 - training loss: 0.2093866980251144 - test accuracy: 60.64000000000001\n",
      "\tEpoch number: 74 - training loss: 0.2029998181078135 - test accuracy: 61.150000000000006\n",
      "\tEpoch number: 75 - training loss: 0.1957862466154501 - test accuracy: 60.9\n",
      "\tEpoch number: 76 - training loss: 0.1989501553880589 - test accuracy: 60.760000000000005\n",
      "\tEpoch number: 77 - training loss: 0.1833200226430698 - test accuracy: 61.25000000000001\n",
      "\tEpoch number: 78 - training loss: 0.17415854654958485 - test accuracy: 61.050000000000004\n",
      "\tEpoch number: 79 - training loss: 0.17092177468111447 - test accuracy: 60.540000000000006\n",
      "\tEpoch number: 80 - training loss: 0.16957031499089487 - test accuracy: 60.74\n",
      "\tEpoch number: 81 - training loss: 0.16100035283876502 - test accuracy: 61.49\n",
      "\tEpoch number: 82 - training loss: 0.16230219139543642 - test accuracy: 60.92999999999999\n",
      "\tEpoch number: 83 - training loss: 0.15400140573415916 - test accuracy: 61.27\n",
      "\tEpoch number: 84 - training loss: 0.15471562207736017 - test accuracy: 61.519999999999996\n",
      "\tEpoch number: 85 - training loss: 0.14991657352051163 - test accuracy: 61.46\n",
      "\tEpoch number: 86 - training loss: 0.14467953720018076 - test accuracy: 60.75000000000001\n",
      "\tEpoch number: 87 - training loss: 0.13848842257428962 - test accuracy: 60.78\n",
      "\tEpoch number: 88 - training loss: 0.12969251893594136 - test accuracy: 61.029999999999994\n",
      "\tEpoch number: 89 - training loss: 0.13292682784445145 - test accuracy: 61.09\n",
      "\tEpoch number: 90 - training loss: 0.11947467814549766 - test accuracy: 61.040000000000006\n",
      "\tEpoch number: 91 - training loss: 0.1187063146315877 - test accuracy: 61.57\n",
      "\tEpoch number: 92 - training loss: 0.11692340037478205 - test accuracy: 61.56\n",
      "\tEpoch number: 93 - training loss: 0.11982892649938993 - test accuracy: 61.370000000000005\n",
      "\tEpoch number: 94 - training loss: 0.11241992173330559 - test accuracy: 61.35\n",
      "\tEpoch number: 95 - training loss: 0.10983445653525155 - test accuracy: 61.660000000000004\n",
      "\tEpoch number: 96 - training loss: 0.10964564669429494 - test accuracy: 61.49\n",
      "\tEpoch number: 97 - training loss: 0.1073374294335275 - test accuracy: 61.67\n",
      "\tEpoch number: 98 - training loss: 0.10729167802864328 - test accuracy: 61.58\n",
      "\tEpoch number: 99 - training loss: 0.10064658450196161 - test accuracy: 61.71\n",
      "\tEpoch number: 100 - training loss: 0.10003209702880181 - test accuracy: 61.49\n"
     ]
    }
   ],
   "source": [
    "# train MobileBlock neural network\n",
    "\n",
    "mobilenet_model = Net18(MobileBlock, [2, 2, 2, 2], 100).cuda()\n",
    "\n",
    "macs, params = get_model_complexity_info(mobilenet_model, (3, 32, 32), as_strings=True, print_per_layer_stat=True, verbose=True)\n",
    "print('{:<30}  {:<8}'.format('Computational complexity: ', macs))\n",
    "print('{:<30}  {:<8}'.format('Number of parameters: ', params))\n",
    "print(\"\\n\")\n",
    "\n",
    "mob_train_loss, mob_test_acc = fit(mobilenet_model, train_loader, test_loader, NUM_EPOCH, LEARNING_RATE, CRITERION)"
   ]
  },
  {
   "cell_type": "code",
   "execution_count": 32,
   "metadata": {
    "colab": {
     "base_uri": "https://localhost:8080/",
     "height": 683
    },
    "colab_type": "code",
    "executionInfo": {
     "elapsed": 1091,
     "status": "ok",
     "timestamp": 1588328268739,
     "user": {
      "displayName": "Victor Cappa",
      "photoUrl": "",
      "userId": "13221236169392054040"
     },
     "user_tz": -540
    },
    "id": "pGRn7DX8ZtEP",
    "outputId": "e0d47709-7eb3-4f1e-80e5-238d52ce94cd"
   },
   "outputs": [
    {
     "data": {
      "image/png": "[encoded data removed]",
      "text/plain": [
       "<Figure size 720x360 with 1 Axes>"
      ]
     },
     "metadata": {
      "needs_background": "light",
      "tags": []
     },
     "output_type": "display_data"
    },
    {
     "data": {
      "image/png": "[encoded data removed]",
      "text/plain": [
       "<Figure size 720x360 with 1 Axes>"
      ]
     },
     "metadata": {
      "needs_background": "light",
      "tags": []
     },
     "output_type": "display_data"
    }
   ],
   "source": [
    "# plot train loss of PlainBlock and MobileBlock neural network\n",
    "fig = plt.figure(figsize=(10, 5))\n",
    "plt.title(\"Training loss plot of 18-layer PlainBlock and MobileBlock CNN\")\n",
    "plt.xlabel(\"epoch\")\n",
    "plt.ylabel(\"train loss\")\n",
    "plt.grid()\n",
    "plt.plot(list(range(1,NUM_EPOCH+1)), train_loss, label=\"train loss PlainBlock\")\n",
    "plt.plot(list(range(1,NUM_EPOCH+1)), mob_train_loss, label=\"train loss MobileBlock\")\n",
    "plt.legend()\n",
    "plt.show()\n",
    "\n",
    "# plot test accuracy of PlainBlock and MobileBlock neural network\n",
    "fig = plt.figure(figsize=(10, 5))\n",
    "plt.title(\"Test accuracy plot of 18-layer PlainBlock and MobileBlock CNN\")\n",
    "plt.xlabel(\"epoch\")\n",
    "plt.ylabel(\"test accuracy\")\n",
    "plt.grid()\n",
    "plt.plot(list(range(1,NUM_EPOCH+1)), test_acc, label=\"test accuracy PlainBlock\")\n",
    "plt.plot(list(range(1,NUM_EPOCH+1)), mob_test_acc, label=\"test accuracy MobileBlock\")\n",
    "plt.legend()\n",
    "plt.show()"
   ]
  }
 ],
 "metadata": {
  "accelerator": "GPU",
  "colab": {
   "collapsed_sections": [],
   "name": "[HW2]20206080.ipynb",
   "provenance": []
  },
  "kernelspec": {
   "display_name": "Python 3",
   "language": "python",
   "name": "python3"
  },
  "language_info": {
   "codemirror_mode": {
    "name": "ipython",
    "version": 3
   },
   "file_extension": ".py",
   "mimetype": "text/x-python",
   "name": "python",
   "nbconvert_exporter": "python",
   "pygments_lexer": "ipython3",
   "version": "3.7.4"
  },
  "widgets": {
   "application/vnd.jupyter.widget-state+json": {
    "07e02e6ab65b4c2f91c60297e75eb725": {
     "model_module": "@jupyter-widgets/base",
     "model_name": "LayoutModel",
     "state": {
      "_model_module": "@jupyter-widgets/base",
      "_model_module_version": "1.2.0",
      "_model_name": "LayoutModel",
      "_view_count": null,
      "_view_module": "@jupyter-widgets/base",
      "_view_module_version": "1.2.0",
      "_view_name": "LayoutView",
      "align_content": null,
      "align_items": null,
      "align_self": null,
      "border": null,
      "bottom": null,
      "display": null,
      "flex": null,
      "flex_flow": null,
      "grid_area": null,
      "grid_auto_columns": null,
      "grid_auto_flow": null,
      "grid_auto_rows": null,
      "grid_column": null,
      "grid_gap": null,
      "grid_row": null,
      "grid_template_areas": null,
      "grid_template_columns": null,
      "grid_template_rows": null,
      "height": null,
      "justify_content": null,
      "justify_items": null,
      "left": null,
      "margin": null,
      "max_height": null,
      "max_width": null,
      "min_height": null,
      "min_width": null,
      "object_fit": null,
      "object_position": null,
      "order": null,
      "overflow": null,
      "overflow_x": null,
      "overflow_y": null,
      "padding": null,
      "right": null,
      "top": null,
      "visibility": null,
      "width": null
     }
    },
    "0d5fe606fe9e44069910102a0062a70f": {
     "model_module": "@jupyter-widgets/controls",
     "model_name": "IntProgressModel",
     "state": {
      "_dom_classes": [],
      "_model_module": "@jupyter-widgets/controls",
      "_model_module_version": "1.5.0",
      "_model_name": "IntProgressModel",
      "_view_count": null,
      "_view_module": "@jupyter-widgets/controls",
      "_view_module_version": "1.5.0",
      "_view_name": "ProgressView",
      "bar_style": "info",
      "description": "",
      "description_tooltip": null,
      "layout": "IPY_MODEL_79281564f2d84e7fa039148ed5dd3115",
      "max": 1,
      "min": 0,
      "orientation": "horizontal",
      "style": "IPY_MODEL_b3c7bfd38e2d471fa671cd4dad5a94e2",
      "value": 1
     }
    },
    "1cb680022b384f51b4c665d429d94c75": {
     "model_module": "@jupyter-widgets/controls",
     "model_name": "DescriptionStyleModel",
     "state": {
      "_model_module": "@jupyter-widgets/controls",
      "_model_module_version": "1.5.0",
      "_model_name": "DescriptionStyleModel",
      "_view_count": null,
      "_view_module": "@jupyter-widgets/base",
      "_view_module_version": "1.2.0",
      "_view_name": "StyleView",
      "description_width": ""
     }
    },
    "267cbf52e9ee498d833f3e86c7de99e7": {
     "model_module": "@jupyter-widgets/base",
     "model_name": "LayoutModel",
     "state": {
      "_model_module": "@jupyter-widgets/base",
      "_model_module_version": "1.2.0",
      "_model_name": "LayoutModel",
      "_view_count": null,
      "_view_module": "@jupyter-widgets/base",
      "_view_module_version": "1.2.0",
      "_view_name": "LayoutView",
      "align_content": null,
      "align_items": null,
      "align_self": null,
      "border": null,
      "bottom": null,
      "display": null,
      "flex": null,
      "flex_flow": null,
      "grid_area": null,
      "grid_auto_columns": null,
      "grid_auto_flow": null,
      "grid_auto_rows": null,
      "grid_column": null,
      "grid_gap": null,
      "grid_row": null,
      "grid_template_areas": null,
      "grid_template_columns": null,
      "grid_template_rows": null,
      "height": null,
      "justify_content": null,
      "justify_items": null,
      "left": null,
      "margin": null,
      "max_height": null,
      "max_width": null,
      "min_height": null,
      "min_width": null,
      "object_fit": null,
      "object_position": null,
      "order": null,
      "overflow": null,
      "overflow_x": null,
      "overflow_y": null,
      "padding": null,
      "right": null,
      "top": null,
      "visibility": null,
      "width": null
     }
    },
    "6ae53e4c2dae4b60ae5a7dddebf2a5f5": {
     "model_module": "@jupyter-widgets/controls",
     "model_name": "HTMLModel",
     "state": {
      "_dom_classes": [],
      "_model_module": "@jupyter-widgets/controls",
      "_model_module_version": "1.5.0",
      "_model_name": "HTMLModel",
      "_view_count": null,
      "_view_module": "@jupyter-widgets/controls",
      "_view_module_version": "1.5.0",
      "_view_name": "HTMLView",
      "description": "",
      "description_tooltip": null,
      "layout": "IPY_MODEL_267cbf52e9ee498d833f3e86c7de99e7",
      "placeholder": "​",
      "style": "IPY_MODEL_1cb680022b384f51b4c665d429d94c75",
      "value": " 169009152/? [00:20&lt;00:00, 55110964.93it/s]"
     }
    },
    "79281564f2d84e7fa039148ed5dd3115": {
     "model_module": "@jupyter-widgets/base",
     "model_name": "LayoutModel",
     "state": {
      "_model_module": "@jupyter-widgets/base",
      "_model_module_version": "1.2.0",
      "_model_name": "LayoutModel",
      "_view_count": null,
      "_view_module": "@jupyter-widgets/base",
      "_view_module_version": "1.2.0",
      "_view_name": "LayoutView",
      "align_content": null,
      "align_items": null,
      "align_self": null,
      "border": null,
      "bottom": null,
      "display": null,
      "flex": null,
      "flex_flow": null,
      "grid_area": null,
      "grid_auto_columns": null,
      "grid_auto_flow": null,
      "grid_auto_rows": null,
      "grid_column": null,
      "grid_gap": null,
      "grid_row": null,
      "grid_template_areas": null,
      "grid_template_columns": null,
      "grid_template_rows": null,
      "height": null,
      "justify_content": null,
      "justify_items": null,
      "left": null,
      "margin": null,
      "max_height": null,
      "max_width": null,
      "min_height": null,
      "min_width": null,
      "object_fit": null,
      "object_position": null,
      "order": null,
      "overflow": null,
      "overflow_x": null,
      "overflow_y": null,
      "padding": null,
      "right": null,
      "top": null,
      "visibility": null,
      "width": null
     }
    },
    "b3c7bfd38e2d471fa671cd4dad5a94e2": {
     "model_module": "@jupyter-widgets/controls",
     "model_name": "ProgressStyleModel",
     "state": {
      "_model_module": "@jupyter-widgets/controls",
      "_model_module_version": "1.5.0",
      "_model_name": "ProgressStyleModel",
      "_view_count": null,
      "_view_module": "@jupyter-widgets/base",
      "_view_module_version": "1.2.0",
      "_view_name": "StyleView",
      "bar_color": null,
      "description_width": "initial"
     }
    },
    "de87f51243644f97a2f8f58cc9415695": {
     "model_module": "@jupyter-widgets/controls",
     "model_name": "HBoxModel",
     "state": {
      "_dom_classes": [],
      "_model_module": "@jupyter-widgets/controls",
      "_model_module_version": "1.5.0",
      "_model_name": "HBoxModel",
      "_view_count": null,
      "_view_module": "@jupyter-widgets/controls",
      "_view_module_version": "1.5.0",
      "_view_name": "HBoxView",
      "box_style": "",
      "children": [
       "IPY_MODEL_0d5fe606fe9e44069910102a0062a70f",
       "IPY_MODEL_6ae53e4c2dae4b60ae5a7dddebf2a5f5"
      ],
      "layout": "IPY_MODEL_07e02e6ab65b4c2f91c60297e75eb725"
     }
    }
   }
  }
 },
 "nbformat": 4,
 "nbformat_minor": 1
}
